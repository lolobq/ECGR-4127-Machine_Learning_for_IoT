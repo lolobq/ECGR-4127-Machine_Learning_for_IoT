{
  "nbformat": 4,
  "nbformat_minor": 0,
  "metadata": {
    "colab": {
      "provenance": [],
      "gpuType": "T4"
    },
    "kernelspec": {
      "name": "python3",
      "display_name": "Python 3"
    },
    "language_info": {
      "name": "python"
    },
    "accelerator": "GPU"
  },
  "cells": [
    {
      "cell_type": "markdown",
      "source": [
        "Import necessary libraries"
      ],
      "metadata": {
        "id": "PrpFKPJbdqfq"
      }
    },
    {
      "cell_type": "code",
      "execution_count": 1,
      "metadata": {
        "colab": {
          "base_uri": "https://localhost:8080/"
        },
        "id": "HfyyNLh3CmoP",
        "outputId": "f43c7f29-ec7f-43cd-c6d1-1807cc868681"
      },
      "outputs": [
        {
          "output_type": "stream",
          "name": "stdout",
          "text": [
            "2.15.0\n"
          ]
        }
      ],
      "source": [
        "# TensorFlow and tf.keras\n",
        "import tensorflow as tf\n",
        "from tensorflow.keras import Input, layers\n",
        "from tensorflow.keras import models\n",
        "from tensorflow.keras.layers.experimental import preprocessing\n",
        "from tensorflow.lite.experimental.microfrontend.python.ops import audio_microfrontend_op as frontend_op\n",
        "print(tf.__version__)\n",
        "\n",
        "# Helper libraries\n",
        "import numpy as np\n",
        "import matplotlib.pyplot as plt\n",
        "import seaborn as sns\n",
        "\n",
        "from tqdm.notebook import tqdm\n",
        "# from tqdm import tqdm # replace with this if moving out of notebook\n",
        "\n",
        "import os\n",
        "import glob\n",
        "import pathlib\n",
        "\n",
        "from datetime import datetime as dt\n",
        "\n",
        "from IPython import display"
      ]
    },
    {
      "cell_type": "markdown",
      "source": [
        "Initialize necessary values"
      ],
      "metadata": {
        "id": "JjIZwxiTd8T5"
      }
    },
    {
      "cell_type": "code",
      "source": [
        "# Set seed for experiment reproducibility\n",
        "seed = 42\n",
        "tf.random.set_seed(seed)\n",
        "np.random.seed(seed)"
      ],
      "metadata": {
        "id": "5vY-QTFdCsFM"
      },
      "execution_count": 2,
      "outputs": []
    },
    {
      "cell_type": "code",
      "source": [
        "i16min = -2**15 # Min value for 16 bit integer\n",
        "i16max = 2**15-1 # Max value for 16 bit integer\n",
        "fsamp = 16000 # Frequency (in Hz)\n",
        "wave_length_ms = 1000\n",
        "wave_length_samps = int(wave_length_ms*fsamp/1000)\n",
        "window_size_ms=60\n",
        "window_step_ms=40\n",
        "num_filters = 32\n",
        "use_microfrontend = True\n",
        "dataset = 'full-speech-files' # use the full speech commands stored as files\n",
        "\n",
        "silence_str = \"_silence\"\n",
        "unknown_str = \"_unknown\"\n",
        "EPOCHS = 1"
      ],
      "metadata": {
        "id": "rLIUS5DfCtsB"
      },
      "execution_count": 3,
      "outputs": []
    },
    {
      "cell_type": "code",
      "source": [
        "from google.colab import drive\n",
        "drive.flush_and_unmount()\n",
        "drive.mount('/content/drive', force_remount=True)"
      ],
      "metadata": {
        "colab": {
          "base_uri": "https://localhost:8080/"
        },
        "id": "Gudqe_neCvDa",
        "outputId": "24996f7c-ab0a-4bc8-8f7e-4486a27e2565"
      },
      "execution_count": 4,
      "outputs": [
        {
          "output_type": "stream",
          "name": "stdout",
          "text": [
            "Drive not mounted, so nothing to flush and unmount.\n",
            "Mounted at /content/drive\n"
          ]
        }
      ]
    },
    {
      "cell_type": "markdown",
      "source": [
        "Create the labels list and make sure the .wav files imported correctly"
      ],
      "metadata": {
        "id": "ERDtmo-ECz9W"
      }
    },
    {
      "cell_type": "code",
      "source": [
        "commands = ['yes', 'banana']\n",
        "if dataset == 'full-speech-files':\n",
        "  data_dir = pathlib.Path(os.path.join('/content/drive/My Drive/LaurenMLIoTFinalProject/dataset/')) # LAUREN FILE PATH"
      ],
      "metadata": {
        "id": "y69v1GJNCx5u"
      },
      "execution_count": 5,
      "outputs": []
    },
    {
      "cell_type": "code",
      "source": [
        "data_dir"
      ],
      "metadata": {
        "colab": {
          "base_uri": "https://localhost:8080/"
        },
        "id": "-gJHiCfIC3f9",
        "outputId": "6da90f58-5c74-4466-df80-bc7a40a55e9f"
      },
      "execution_count": 6,
      "outputs": [
        {
          "output_type": "execute_result",
          "data": {
            "text/plain": [
              "PosixPath('/content/drive/My Drive/LaurenMLIoTFinalProject/dataset')"
            ]
          },
          "metadata": {},
          "execution_count": 6
        }
      ]
    },
    {
      "cell_type": "code",
      "source": [
        "# Create label list\n",
        "label_list = commands.copy()\n",
        "label_list.insert(0, silence_str)\n",
        "label_list.insert(1, unknown_str)\n",
        "print('label_list:', label_list)"
      ],
      "metadata": {
        "colab": {
          "base_uri": "https://localhost:8080/"
        },
        "id": "hmZlgyz9C41h",
        "outputId": "61046286-ffb5-49dd-d3c9-a5670f526ab6"
      },
      "execution_count": 7,
      "outputs": [
        {
          "output_type": "stream",
          "name": "stdout",
          "text": [
            "label_list: ['_silence', '_unknown', 'yes', 'banana']\n"
          ]
        }
      ]
    },
    {
      "cell_type": "code",
      "source": [
        "# Make sure files imported correctly\n",
        "if dataset == 'mini-speech' or dataset == 'full-speech-files':\n",
        "    filenames = tf.io.gfile.glob(str(data_dir) + '/*/*.wav')\n",
        "    filenames = tf.random.shuffle(filenames)\n",
        "    num_samples = len(filenames)\n",
        "    print('Number of total examples:', num_samples)\n",
        "    print('Example file tensor:', filenames[0])"
      ],
      "metadata": {
        "colab": {
          "base_uri": "https://localhost:8080/"
        },
        "id": "sJAEiEEtC6G5",
        "outputId": "42fe2f89-e580-40cc-972c-650012852dde"
      },
      "execution_count": 8,
      "outputs": [
        {
          "output_type": "stream",
          "name": "stdout",
          "text": [
            "Number of total examples: 14689\n",
            "Example file tensor: tf.Tensor(b'/content/drive/My Drive/LaurenMLIoTFinalProject/dataset/no/4e99c1b7_nohash_1.wav', shape=(), dtype=string)\n"
          ]
        }
      ]
    },
    {
      "cell_type": "markdown",
      "source": [
        "Read the files from the validation and testing list files. Create the training list from the remaining files"
      ],
      "metadata": {
        "id": "Zfkk6iwOfjKD"
      }
    },
    {
      "cell_type": "code",
      "source": [
        "if dataset == 'full-speech-files':\n",
        "  fname_val_files = os.path.join(data_dir, 'validation_list.txt')\n",
        "  with open(fname_val_files) as fpi_val:\n",
        "    val_files = fpi_val.read().splitlines()\n",
        "  val_files = [os.path.join(data_dir, fn) for fn in val_files]\n",
        "  # Check if the specific file path exists in val_files and remove it if it does\n",
        "  if '/content/drive/My Drive/LaurenMLIoTFinalProject/dataset/' in val_files:\n",
        "      val_files.remove('/content/drive/My Drive/LaurenMLIoTFinalProject/dataset/')\n",
        "  for line in val_files[:5]:\n",
        "      print(line)\n",
        "\n",
        "  fname_test_files = os.path.join(data_dir, 'testing_list.txt')\n",
        "  with open(fname_test_files) as fpi_tst:\n",
        "      test_files = fpi_tst.read().splitlines()\n",
        "  test_files = [os.path.join(data_dir, fn.strip()) for fn in test_files]  # Use strip() instead of rstrip()\n",
        "  # Check if the specific file path exists in val_files and remove it if it does\n",
        "  if '/content/drive/My Drive/LaurenMLIoTFinalProject/dataset/' in test_files:\n",
        "      test_files.remove('/content/drive/My Drive/LaurenMLIoTFinalProject/dataset/')\n",
        "  for line in test_files[:5]:\n",
        "      print(line)\n",
        "\n",
        "\n",
        "  # convert the TF tensor filenames into an array of strings so we can use basic python constructs\n",
        "  train_files = [f.decode('utf8') for f in filenames.numpy()]\n",
        "  # don't train with the _background_noise_ files; exclude when directory name starts with '_'\n",
        "  train_files = [f for f in train_files if f.split('/')[-2][0] != '_']\n",
        "  # validation and test files are listed explicitly in *_list.txt; train with everything else\n",
        "  train_files = list(set(train_files) - set(test_files) - set(val_files))\n",
        "  # now convert back into a TF tensor so we can use the tf.dataset pipeline\n",
        "  train_files = tf.constant(train_files)\n",
        "print('Training set size', len(train_files))\n",
        "print('Validation set size', len(val_files))\n",
        "print('Test set size', len(test_files))"
      ],
      "metadata": {
        "colab": {
          "base_uri": "https://localhost:8080/"
        },
        "id": "FsvmD03lC79d",
        "outputId": "d90a8a00-d8da-4825-c9a6-e1c1be84a49e"
      },
      "execution_count": 9,
      "outputs": [
        {
          "output_type": "stream",
          "name": "stdout",
          "text": [
            "/content/drive/My Drive/LaurenMLIoTFinalProject/dataset/banana/Banana3_1_long.wav\n",
            "/content/drive/My Drive/LaurenMLIoTFinalProject/dataset/banana/Banana6_14_trim.wav\n",
            "/content/drive/My Drive/LaurenMLIoTFinalProject/dataset/banana/Banana16_19_down.wav\n",
            "/content/drive/My Drive/LaurenMLIoTFinalProject/dataset/banana/Banana15_36_down.wav\n",
            "/content/drive/My Drive/LaurenMLIoTFinalProject/dataset/banana/Banana11_4_long.wav\n",
            "/content/drive/My Drive/LaurenMLIoTFinalProject/dataset/banana/Banana9_21_down.wav\n",
            "/content/drive/My Drive/LaurenMLIoTFinalProject/dataset/banana/Banana13_7_down.wav\n",
            "/content/drive/My Drive/LaurenMLIoTFinalProject/dataset/banana/Banana18_3_long.wav\n",
            "/content/drive/My Drive/LaurenMLIoTFinalProject/dataset/banana/Banana12_23_long.wav\n",
            "/content/drive/My Drive/LaurenMLIoTFinalProject/dataset/banana/Banana4_30_up.wav\n",
            "Training set size 9786\n",
            "Validation set size 1600\n",
            "Test set size 3996\n"
          ]
        }
      ]
    },
    {
      "cell_type": "markdown",
      "source": [
        "Define functions to unpack the audio files"
      ],
      "metadata": {
        "id": "sNx1VJtSf-Yt"
      }
    },
    {
      "cell_type": "code",
      "source": [
        "def decode_audio(audio_binary):\n",
        "  audio, _ = tf.audio.decode_wav(audio_binary)\n",
        "  return tf.squeeze(audio, axis=-1)"
      ],
      "metadata": {
        "id": "FXvVSZ28C9dA"
      },
      "execution_count": 10,
      "outputs": []
    },
    {
      "cell_type": "code",
      "source": [
        "def get_label(file_path):\n",
        "  parts = tf.strings.split(file_path, os.path.sep)\n",
        "  in_set = tf.reduce_any(parts[-2] == label_list)\n",
        "  label = tf.cond(in_set, lambda: parts[-2], lambda: tf.constant(unknown_str))\n",
        "  return  label # parts[-2]"
      ],
      "metadata": {
        "id": "1cbEEwfCC-xb"
      },
      "execution_count": 11,
      "outputs": []
    },
    {
      "cell_type": "code",
      "source": [
        "def get_waveform_and_label(file_path):\n",
        "  label = get_label(file_path)\n",
        "  audio_binary = tf.io.read_file(file_path)\n",
        "  waveform = decode_audio(audio_binary)\n",
        "  return waveform, label"
      ],
      "metadata": {
        "id": "YiCRMZ_zDAGY"
      },
      "execution_count": 12,
      "outputs": []
    },
    {
      "cell_type": "code",
      "source": [
        "def get_spectrogram(waveform):\n",
        "  zero_padding = tf.zeros([wave_length_samps] - tf.shape(waveform), dtype=tf.int16)\n",
        "  waveform = tf.cast(0.5*waveform*(i16max-i16min), tf.int16)  # scale float [-1,+1]=>INT16\n",
        "  equal_length = tf.concat([waveform, zero_padding], 0)\n",
        "  spectrogram = frontend_op.audio_microfrontend(equal_length, sample_rate=fsamp, num_channels=num_filters,\n",
        "                                    window_size=window_size_ms, window_step=window_step_ms)\n",
        "  return spectrogram"
      ],
      "metadata": {
        "id": "ukzGQuYpDBoS"
      },
      "execution_count": 13,
      "outputs": []
    },
    {
      "cell_type": "markdown",
      "source": [
        "Create waveforms"
      ],
      "metadata": {
        "id": "q6bCjRWHDF6F"
      }
    },
    {
      "cell_type": "code",
      "source": [
        "def create_silence_dataset(num_waves, samples_per_wave, rms_noise_range=[0.01,0.2], silent_label=silence_str):\n",
        "    # create num_waves waveforms of white gaussian noise, with rms level drawn from rms_noise_range\n",
        "    # to act as the \"silence\" dataset\n",
        "    rng = np.random.default_rng()\n",
        "    rms_noise_levels = rng.uniform(low=rms_noise_range[0], high=rms_noise_range[1], size=num_waves)\n",
        "    rand_waves = np.zeros((num_waves, samples_per_wave), dtype=np.float32) # pre-allocate memory\n",
        "    for i in range(num_waves):\n",
        "        rand_waves[i,:] = rms_noise_levels[i]*rng.standard_normal(samples_per_wave)\n",
        "    labels = [silent_label]*num_waves\n",
        "    return tf.data.Dataset.from_tensor_slices((rand_waves, labels))"
      ],
      "metadata": {
        "id": "6cwD2r-1DDhj"
      },
      "execution_count": 14,
      "outputs": []
    },
    {
      "cell_type": "code",
      "source": [
        "def wavds2specds(waveform_ds, verbose=True):\n",
        "  wav, label = next(waveform_ds.as_numpy_iterator())\n",
        "  one_spec = get_spectrogram(wav)\n",
        "  one_spec = tf.expand_dims(one_spec, axis=0)  # add a 'batch' dimension at the front\n",
        "  one_spec = tf.expand_dims(one_spec, axis=-1) # add a singleton 'channel' dimension at the back\n",
        "\n",
        "  num_waves = 0 # count the waveforms so we can allocate the memory\n",
        "  for wav, label in waveform_ds:\n",
        "    num_waves += 1\n",
        "  print(f\"About to create spectrograms from {num_waves} waves\")\n",
        "  spec_shape = (num_waves,) + one_spec.shape[1:]\n",
        "  spec_grams = np.nan * np.zeros(spec_shape)  # allocate memory\n",
        "  labels = np.nan * np.zeros(num_waves)\n",
        "  idx = 0\n",
        "  for wav, label in waveform_ds:\n",
        "    if verbose and idx % 250 == 0:\n",
        "      print(f\"\\r {idx} wavs processed\", end='')\n",
        "    spectrogram = get_spectrogram(wav)\n",
        "    # TF conv layer expect inputs structured as 4D (batch_size, height, width, channels)\n",
        "    # the microfrontend returns 2D tensors (freq, time), so we need to\n",
        "    spectrogram = tf.expand_dims(spectrogram, axis=0)  # add a 'batch' dimension at the front\n",
        "    spectrogram = tf.expand_dims(spectrogram, axis=-1) # add a singleton 'channel' dimension at the back\n",
        "    spec_grams[idx, ...] = spectrogram\n",
        "    new_label = label.numpy().decode('utf8')\n",
        "    new_label_id = np.argmax(new_label == np.array(label_list))\n",
        "    labels[idx] = new_label_id # for numeric labels\n",
        "    # labels.append(new_label) # for string labels\n",
        "    idx += 1\n",
        "  labels = np.array(labels, dtype=int)\n",
        "  output_ds = tf.data.Dataset.from_tensor_slices((spec_grams, labels))\n",
        "  return output_ds"
      ],
      "metadata": {
        "id": "T-SDe6IFDKYA"
      },
      "execution_count": 15,
      "outputs": []
    },
    {
      "cell_type": "code",
      "source": [
        "AUTOTUNE = tf.data.experimental.AUTOTUNE\n",
        "num_train_files = len(train_files)\n",
        "files_ds = tf.data.Dataset.from_tensor_slices(train_files)\n",
        "waveform_ds = files_ds.map(get_waveform_and_label, num_parallel_calls=AUTOTUNE)\n",
        "train_ds = wavds2specds(waveform_ds)"
      ],
      "metadata": {
        "colab": {
          "base_uri": "https://localhost:8080/"
        },
        "id": "lydZvXGrDLl3",
        "outputId": "7d4e4ab1-38fe-4cc2-df37-786c4a218e9c"
      },
      "execution_count": 16,
      "outputs": [
        {
          "output_type": "stream",
          "name": "stdout",
          "text": [
            "About to create spectrograms from 9786 waves\n",
            " 9750 wavs processed"
          ]
        }
      ]
    },
    {
      "cell_type": "markdown",
      "source": [
        "Plot waveforms"
      ],
      "metadata": {
        "id": "-n1rOoJ6gOsO"
      }
    },
    {
      "cell_type": "code",
      "source": [
        "rows = 3\n",
        "cols = 3\n",
        "n = rows*cols\n",
        "fig, axes = plt.subplots(rows, cols, figsize=(10, 12))\n",
        "for i, (audio, label) in enumerate(waveform_ds.take(n)):\n",
        "  r = i // cols\n",
        "  c = i % cols\n",
        "  ax = axes[r][c]\n",
        "  ax.plot(audio.numpy())\n",
        "  ax.set_yticks(np.arange(-1.2, 1.2, 0.2))\n",
        "  label = label.numpy().decode('utf-8')\n",
        "  ax.set_title(label)\n",
        "\n",
        "plt.show()"
      ],
      "metadata": {
        "colab": {
          "base_uri": "https://localhost:8080/",
          "height": 1000
        },
        "id": "0NngFRwcDNNY",
        "outputId": "0671e8c2-3d13-4fe2-9948-20a53be7d892"
      },
      "execution_count": 17,
      "outputs": [
        {
          "output_type": "display_data",
          "data": {
            "text/plain": [
              "<Figure size 1000x1200 with 9 Axes>"
            ],
            "image/png": "[encoded data removed]"
          },
          "metadata": {}
        }
      ]
    },
    {
      "cell_type": "markdown",
      "source": [
        "Functions for preprocessing"
      ],
      "metadata": {
        "id": "7s_K2WQegY2w"
      }
    },
    {
      "cell_type": "code",
      "source": [
        "# Adds noise to waveforms\n",
        "def copy_with_noise(ds_input, rms_level=0.25):\n",
        "  rng = tf.random.Generator.from_seed(1234)\n",
        "  wave_shape = tf.constant((wave_length_samps,))\n",
        "  def add_noise(waveform, label):\n",
        "    noise = rms_level*rng.normal(shape=wave_shape)\n",
        "    zero_padding = tf.zeros([wave_length_samps] - tf.shape(waveform), dtype=tf.float32)\n",
        "    waveform = tf.concat([waveform, zero_padding], 0)\n",
        "    noisy_wave = waveform + noise\n",
        "    return noisy_wave, label\n",
        "\n",
        "  return ds_input.map(add_noise)"
      ],
      "metadata": {
        "id": "MERsfiN_DOzc"
      },
      "execution_count": 18,
      "outputs": []
    },
    {
      "cell_type": "code",
      "source": [
        "# waveform_ds = augment_with_noise(waveform_ds)\n",
        "count = 0\n",
        "for w,l in waveform_ds:\n",
        "  if w.shape != (16000,):\n",
        "    print(f\"element {count} has shape {w.shape}\")\n",
        "    break\n",
        "  count += 1\n",
        "print(count)"
      ],
      "metadata": {
        "colab": {
          "base_uri": "https://localhost:8080/"
        },
        "id": "hAz3stojDQWj",
        "outputId": "b3b5737d-1439-4f63-a87c-09eda090ce98"
      },
      "execution_count": 19,
      "outputs": [
        {
          "output_type": "stream",
          "name": "stdout",
          "text": [
            "element 35 has shape (11606,)\n",
            "35\n"
          ]
        }
      ]
    },
    {
      "cell_type": "code",
      "source": [
        "# Pads a waveform with 0s to ensure it has 16000 samples\n",
        "def pad_16000(waveform, label):\n",
        "    zero_padding = tf.zeros([wave_length_samps] - tf.shape(waveform), dtype=tf.float32)\n",
        "    waveform = tf.concat([waveform, zero_padding], 0)\n",
        "    return waveform, label"
      ],
      "metadata": {
        "id": "_uYLc25zDRtK"
      },
      "execution_count": 20,
      "outputs": []
    },
    {
      "cell_type": "code",
      "source": [
        "def count_labels(dataset):\n",
        "    counts = {}\n",
        "    for _, lbl in dataset:\n",
        "        if lbl.dtype == tf.string:\n",
        "            label = lbl.numpy().decode('utf-8')\n",
        "        else:\n",
        "            label = lbl.numpy()\n",
        "        if label in counts:\n",
        "            counts[label] += 1\n",
        "        else:\n",
        "            counts[label] = 1\n",
        "    return counts"
      ],
      "metadata": {
        "id": "iAZJ2BvNDTLD"
      },
      "execution_count": 21,
      "outputs": []
    },
    {
      "cell_type": "code",
      "source": [
        "# Collect what we did to generate the training dataset into a\n",
        "# function, so we can repeat with the validation and test sets.\n",
        "def preprocess_dataset(files, num_silent=None, noisy_reps_of_known=None):\n",
        "  # if noisy_reps_of_known is not None, it should be a list of rms noise levels\n",
        "  # For every target word in the data set, 1 copy will be created with each level\n",
        "  # of noise added to it.  So [0.1, 0.2] will add 2x noisy copies of the target words\n",
        "  if num_silent is None:\n",
        "    num_silent = int(0.2*len(files))+1\n",
        "  print(f\"Processing {len(files)} files\")\n",
        "  files_ds = tf.data.Dataset.from_tensor_slices(files)\n",
        "  waveform_ds = files_ds.map(get_waveform_and_label)\n",
        "  if noisy_reps_of_known is not None:\n",
        "    # create a few copies of only the target words to balance the distribution\n",
        "    # create a tmp dataset with only the target words\n",
        "    ds_only_cmds = waveform_ds.filter(lambda w,l: tf.reduce_any(l == commands))\n",
        "    for noise_level in noisy_reps_of_known:\n",
        "       waveform_ds = waveform_ds.concatenate(copy_with_noise(ds_only_cmds, rms_level=noise_level))\n",
        "  if num_silent > 0:\n",
        "    silent_wave_ds = create_silence_dataset(num_silent, wave_length_samps,\n",
        "                                            rms_noise_range=[0.01,0.2],\n",
        "                                            silent_label=silence_str)\n",
        "    waveform_ds = waveform_ds.concatenate(silent_wave_ds)\n",
        "  print(f\"Added {num_silent} silent wavs and ?? noisy wavs\")\n",
        "  num_waves = 0\n",
        "  output_ds = wavds2specds(waveform_ds)\n",
        "  return output_ds"
      ],
      "metadata": {
        "id": "yqI_c3fPDUtk"
      },
      "execution_count": 22,
      "outputs": []
    },
    {
      "cell_type": "code",
      "source": [
        "print(f\"We have {len(train_files)}/{len(val_files)}/{len(test_files)} training/validation/test files\")"
      ],
      "metadata": {
        "colab": {
          "base_uri": "https://localhost:8080/"
        },
        "id": "IQRyJYGNDWKh",
        "outputId": "f682466e-94a5-48c9-fb8c-83d1c9efc719"
      },
      "execution_count": 23,
      "outputs": [
        {
          "output_type": "stream",
          "name": "stdout",
          "text": [
            "We have 9786/1600/3996 training/validation/test files\n"
          ]
        }
      ]
    },
    {
      "cell_type": "markdown",
      "source": [
        "Testing preprocessing on a few files"
      ],
      "metadata": {
        "id": "APBXoJvmk7FR"
      }
    },
    {
      "cell_type": "code",
      "source": [
        "# print(train_files[:20])\n",
        "print(label_list)\n",
        "train_files[:20]\n",
        "\n",
        "tmp_ds = preprocess_dataset(train_files[:20])\n",
        "print(count_labels(tmp_ds))\n",
        "\n",
        "if tf.test.is_gpu_available():\n",
        "    device_name = '/GPU:0'\n",
        "    print('Running on GPU')\n",
        "else:\n",
        "    device_name = '/CPU:0'\n",
        "    print('Running on CPU')\n",
        "\n",
        "with tf.device(device_name):\n",
        "    tmp_ds = preprocess_dataset(train_files[:20], noisy_reps_of_known=[0.05,0.1])\n",
        "    print(count_labels(tmp_ds))"
      ],
      "metadata": {
        "colab": {
          "base_uri": "https://localhost:8080/"
        },
        "id": "QWFwrrTzDX7F",
        "outputId": "6ebad8cf-547e-4491-f386-589fcf910ba1"
      },
      "execution_count": 24,
      "outputs": [
        {
          "output_type": "stream",
          "name": "stdout",
          "text": [
            "['_silence', '_unknown', 'yes', 'banana']\n",
            "Processing 20 files\n",
            "Added 5 silent wavs and ?? noisy wavs\n"
          ]
        },
        {
          "output_type": "stream",
          "name": "stderr",
          "text": [
            "WARNING:tensorflow:From <ipython-input-24-8c25e13dd9d7>:8: is_gpu_available (from tensorflow.python.framework.test_util) is deprecated and will be removed in a future version.\n",
            "Instructions for updating:\n",
            "Use `tf.config.list_physical_devices('GPU')` instead.\n"
          ]
        },
        {
          "output_type": "stream",
          "name": "stdout",
          "text": [
            "About to create spectrograms from 25 waves\n",
            "\r 0 wavs processed{3: 7, 1: 10, 2: 3, 0: 5}\n",
            "Running on GPU\n",
            "Processing 20 files\n",
            "Added 5 silent wavs and ?? noisy wavs\n",
            "About to create spectrograms from 45 waves\n",
            " 0 wavs processed{3: 21, 1: 10, 2: 9, 0: 5}\n"
          ]
        }
      ]
    },
    {
      "cell_type": "markdown",
      "source": [
        "Preprocess all files"
      ],
      "metadata": {
        "id": "0faE-xYjk_y5"
      }
    },
    {
      "cell_type": "code",
      "source": [
        "from pathlib import Path\n",
        "if tf.test.is_gpu_available():\n",
        "    device_name = '/GPU:0'\n",
        "    print('Running on GPU')\n",
        "else:\n",
        "    device_name = '/CPU:0'\n",
        "    print('Running on CPU')\n",
        "\n",
        "with tf.device(device_name):\n",
        "    train_ds = preprocess_dataset(train_files, noisy_reps_of_known=[0.05,0.1,0.15,0.2,0.25])\n",
        "    val_ds = preprocess_dataset(val_files)\n",
        "    test_ds = preprocess_dataset(test_files)"
      ],
      "metadata": {
        "colab": {
          "base_uri": "https://localhost:8080/"
        },
        "id": "9egHcQPwDZqS",
        "outputId": "5488f012-6814-4537-8b6d-b15f731ea9a7"
      },
      "execution_count": 25,
      "outputs": [
        {
          "output_type": "stream",
          "name": "stdout",
          "text": [
            "Running on GPU\n",
            "Processing 9786 files\n",
            "Added 1958 silent wavs and ?? noisy wavs\n",
            "About to create spectrograms from 34709 waves\n",
            " 34500 wavs processedProcessing 1600 files\n",
            "Added 321 silent wavs and ?? noisy wavs\n",
            "About to create spectrograms from 1921 waves\n",
            " 1750 wavs processedProcessing 3996 files\n",
            "Added 800 silent wavs and ?? noisy wavs\n",
            "About to create spectrograms from 4796 waves\n",
            " 4750 wavs processed"
          ]
        }
      ]
    },
    {
      "cell_type": "markdown",
      "source": [
        "Remove whitespace from .txt files and find the number of values in each dataset"
      ],
      "metadata": {
        "id": "ssV8LBwqlF1w"
      }
    },
    {
      "cell_type": "code",
      "source": [
        "def modify_testing_list(file_path):\n",
        "    # Read all lines from the file\n",
        "    with open(file_path, 'r') as file:\n",
        "        lines = file.readlines()\n",
        "\n",
        "    # Remove the first line\n",
        "    modified_lines = lines[1:]\n",
        "\n",
        "    # Remove leading and trailing whitespace from each line\n",
        "    modified_lines = [line.strip() for line in modified_lines]\n",
        "\n",
        "    # Write the modified lines back to the file\n",
        "    with open(file_path, 'w') as file:\n",
        "        file.write('\\n'.join(modified_lines))\n",
        "\n",
        "# Specify the path to testing_list.txt\n",
        "file_path = '/content/drive/My Drive/LaurenMLIoTFinalProject/dataset/testing_list.txt'  # LAUREN FILE PATH'\n",
        "\n",
        "# Call the function to modify the file\n",
        "modify_testing_list(file_path)"
      ],
      "metadata": {
        "id": "9ma_E_piDcD_"
      },
      "execution_count": 26,
      "outputs": []
    },
    {
      "cell_type": "code",
      "source": [
        "print(\"training data set\")\n",
        "print(count_labels(train_ds))\n",
        "print(\"val_ds data set\")\n",
        "print(count_labels(val_ds))\n",
        "print(\"test_ds data set\")\n",
        "print(count_labels(test_ds))"
      ],
      "metadata": {
        "colab": {
          "base_uri": "https://localhost:8080/"
        },
        "id": "G0r6TtPSDeCa",
        "outputId": "b3e7d70e-d0b1-4029-9768-1a1163662492"
      },
      "execution_count": 27,
      "outputs": [
        {
          "output_type": "stream",
          "name": "stdout",
          "text": [
            "training data set\n",
            "{3: 18174, 1: 5193, 2: 9384, 0: 1958}\n",
            "val_ds data set\n",
            "{3: 800, 2: 800, 0: 321}\n",
            "test_ds data set\n",
            "{3: 1996, 2: 2000, 0: 800}\n"
          ]
        }
      ]
    },
    {
      "cell_type": "markdown",
      "source": [
        "Perform batching and ensure the input has the proper shape"
      ],
      "metadata": {
        "id": "7VZU4uXRltNx"
      }
    },
    {
      "cell_type": "code",
      "source": [
        "train_ds = train_ds.shuffle(int(len(train_files)*1.2))\n",
        "val_ds = val_ds.shuffle(int(len(val_files)*1.2))\n",
        "test_ds = test_ds.shuffle(int(len(test_files)*1.2))"
      ],
      "metadata": {
        "id": "ooAipp_vDfXy"
      },
      "execution_count": 28,
      "outputs": []
    },
    {
      "cell_type": "code",
      "source": [
        "batch_size = 64\n",
        "train_ds = train_ds.batch(batch_size)\n",
        "val_ds = val_ds.batch(batch_size)"
      ],
      "metadata": {
        "id": "nCrFfU2tDg1x"
      },
      "execution_count": 29,
      "outputs": []
    },
    {
      "cell_type": "code",
      "source": [
        "train_ds = train_ds.cache().prefetch(AUTOTUNE)\n",
        "val_ds = val_ds.cache().prefetch(AUTOTUNE)"
      ],
      "metadata": {
        "id": "lzPS39TVDh9O"
      },
      "execution_count": 30,
      "outputs": []
    },
    {
      "cell_type": "code",
      "source": [
        "for spectrogram, _ in train_ds.take(1):\n",
        "  spec1 = spectrogram\n",
        "# take(1) takes 1 *batch*, so we have to select the first\n",
        "# spectrogram from it, hence the [0]\n",
        "print(f\"Spectrogram shape {spec1[0].shape}\")\n",
        "print(f\"ranges from {np.min(spec1)} to {np.max(spec1)}\")   # min/max across the whole batch"
      ],
      "metadata": {
        "colab": {
          "base_uri": "https://localhost:8080/"
        },
        "id": "OJDhGYc0DjIC",
        "outputId": "24764792-8cf8-4fa3-d68a-20adaab45875"
      },
      "execution_count": 31,
      "outputs": [
        {
          "output_type": "stream",
          "name": "stdout",
          "text": [
            "Spectrogram shape (24, 32, 1)\n",
            "ranges from 0.0 to 712.0\n"
          ]
        }
      ]
    },
    {
      "cell_type": "code",
      "source": [
        "for spectrogram, _ in train_ds.take(1):\n",
        "  # take(1) takes 1 *batch*, so we have to select the first\n",
        "  # spectrogram from it, hence the [0]\n",
        "  input_shape = spectrogram[0].shape\n",
        "print('Input shape:', input_shape)\n",
        "num_labels = len(label_list)\n"
      ],
      "metadata": {
        "colab": {
          "base_uri": "https://localhost:8080/"
        },
        "id": "NAaXra1HDkSz",
        "outputId": "08e3f68b-ec2c-47f4-e630-a4c00c527856"
      },
      "execution_count": 32,
      "outputs": [
        {
          "output_type": "stream",
          "name": "stdout",
          "text": [
            "Input shape: (24, 32, 1)\n"
          ]
        }
      ]
    },
    {
      "cell_type": "code",
      "source": [
        "label_list"
      ],
      "metadata": {
        "colab": {
          "base_uri": "https://localhost:8080/"
        },
        "id": "UjQmfdP9DltO",
        "outputId": "0f72b89f-3e24-46a3-9375-c0300e3b625d"
      },
      "execution_count": 33,
      "outputs": [
        {
          "output_type": "execute_result",
          "data": {
            "text/plain": [
              "['_silence', '_unknown', 'yes', 'banana']"
            ]
          },
          "metadata": {},
          "execution_count": 33
        }
      ]
    },
    {
      "cell_type": "code",
      "source": [
        "print('Input shape:', input_shape)"
      ],
      "metadata": {
        "colab": {
          "base_uri": "https://localhost:8080/"
        },
        "id": "NCN3TGKFDm5W",
        "outputId": "8942e051-f912-479f-9d99-f042e3a93c74"
      },
      "execution_count": 34,
      "outputs": [
        {
          "output_type": "stream",
          "name": "stdout",
          "text": [
            "Input shape: (24, 32, 1)\n"
          ]
        }
      ]
    },
    {
      "cell_type": "markdown",
      "source": [
        "# CNN Model"
      ],
      "metadata": {
        "id": "irmMcf3dl2Yp"
      }
    },
    {
      "cell_type": "markdown",
      "source": [
        "Build model"
      ],
      "metadata": {
        "id": "Fgk6P6eDmg-v"
      }
    },
    {
      "cell_type": "code",
      "source": [
        "from tensorflow.keras import regularizers\n",
        "from tensorflow.keras.callbacks import EarlyStopping\n",
        "from tensorflow.keras.layers import Input, Conv2D, BatchNormalization, DepthwiseConv2D, Dropout, MaxPooling2D, Flatten, Dense"
      ],
      "metadata": {
        "id": "5qGKXcBlDoiv"
      },
      "execution_count": 109,
      "outputs": []
    },
    {
      "cell_type": "code",
      "source": [
        "def build_model(input_shape, num_labels, l2, lr):\n",
        "    print('Input shape:', input_shape)\n",
        "    model = models.Sequential([\n",
        "        layers.Input(shape=input_shape),\n",
        "        layers.Conv2D(32, 3, kernel_regularizer=regularizers.l2(l2)),\n",
        "        layers.BatchNormalization(),\n",
        "        layers.Activation('relu'),\n",
        "        layers.MaxPooling2D(name='pool1'),\n",
        "\n",
        "        layers.Conv2D(64, 3, kernel_regularizer=regularizers.l2(l2)),\n",
        "        layers.BatchNormalization(),\n",
        "        layers.Activation('relu'),\n",
        "        layers.MaxPooling2D(name='pool2'),\n",
        "\n",
        "        layers.Conv2D(128, 3, kernel_regularizer=regularizers.l2(l2)),\n",
        "        layers.BatchNormalization(),\n",
        "        layers.Activation('relu'),\n",
        "        layers.MaxPooling2D(name='pool3'),\n",
        "\n",
        "        layers.Flatten(),\n",
        "        layers.Dense(256, kernel_regularizer=regularizers.l2(l2)),\n",
        "        layers.BatchNormalization(),\n",
        "        layers.Activation('relu'),\n",
        "        layers.Dropout(0.5),\n",
        "\n",
        "        layers.Dense(128, kernel_regularizer=regularizers.l2(l2)),\n",
        "        layers.BatchNormalization(),\n",
        "        layers.Activation('relu'),\n",
        "        layers.Dropout(0.5),\n",
        "\n",
        "        layers.Dense(num_labels),\n",
        "    ], name=\"modified_simple_cnn\")\n",
        "\n",
        "    model.compile(\n",
        "        optimizer=tf.keras.optimizers.Adam(learning_rate=lr),\n",
        "        loss=tf.keras.losses.SparseCategoricalCrossentropy(from_logits=True),\n",
        "        metrics=['accuracy'],\n",
        "    )\n",
        "\n",
        "    early_stopping = tf.keras.callbacks.EarlyStopping(\n",
        "        monitor='val_accuracy',\n",
        "        min_delta=0.01,\n",
        "        patience=4,\n",
        "        verbose=2,\n",
        "        mode='max',\n",
        "        restore_best_weights=True)\n",
        "\n",
        "    return model, early_stopping\n"
      ],
      "metadata": {
        "id": "nXBRqT_DDpsd"
      },
      "execution_count": 53,
      "outputs": []
    },
    {
      "cell_type": "code",
      "source": [
        "l2_value=0.0001\n",
        "lr=0.001\n",
        "EPOCHS=50\n",
        "model, early_stopping = build_model(input_shape, num_labels,l2_value, lr)\n",
        "model.summary()"
      ],
      "metadata": {
        "colab": {
          "base_uri": "https://localhost:8080/"
        },
        "id": "TmCllcVDD0Pw",
        "outputId": "49e74a5e-f19c-4fae-932c-90eea9c89b27"
      },
      "execution_count": 55,
      "outputs": [
        {
          "output_type": "stream",
          "name": "stdout",
          "text": [
            "Input shape: (24, 32, 1)\n",
            "Model: \"modified_simple_cnn\"\n",
            "_________________________________________________________________\n",
            " Layer (type)                Output Shape              Param #   \n",
            "=================================================================\n",
            " conv2d_12 (Conv2D)          (None, 22, 30, 32)        320       \n",
            "                                                                 \n",
            " batch_normalization_16 (Ba  (None, 22, 30, 32)        128       \n",
            " tchNormalization)                                               \n",
            "                                                                 \n",
            " activation_16 (Activation)  (None, 22, 30, 32)        0         \n",
            "                                                                 \n",
            " pool1 (MaxPooling2D)        (None, 11, 15, 32)        0         \n",
            "                                                                 \n",
            " conv2d_13 (Conv2D)          (None, 9, 13, 64)         18496     \n",
            "                                                                 \n",
            " batch_normalization_17 (Ba  (None, 9, 13, 64)         256       \n",
            " tchNormalization)                                               \n",
            "                                                                 \n",
            " activation_17 (Activation)  (None, 9, 13, 64)         0         \n",
            "                                                                 \n",
            " pool2 (MaxPooling2D)        (None, 4, 6, 64)          0         \n",
            "                                                                 \n",
            " conv2d_14 (Conv2D)          (None, 2, 4, 128)         73856     \n",
            "                                                                 \n",
            " batch_normalization_18 (Ba  (None, 2, 4, 128)         512       \n",
            " tchNormalization)                                               \n",
            "                                                                 \n",
            " activation_18 (Activation)  (None, 2, 4, 128)         0         \n",
            "                                                                 \n",
            " pool3 (MaxPooling2D)        (None, 1, 2, 128)         0         \n",
            "                                                                 \n",
            " flatten_2 (Flatten)         (None, 256)               0         \n",
            "                                                                 \n",
            " dense_7 (Dense)             (None, 256)               65792     \n",
            "                                                                 \n",
            " batch_normalization_19 (Ba  (None, 256)               1024      \n",
            " tchNormalization)                                               \n",
            "                                                                 \n",
            " activation_19 (Activation)  (None, 256)               0         \n",
            "                                                                 \n",
            " dropout_18 (Dropout)        (None, 256)               0         \n",
            "                                                                 \n",
            " dense_8 (Dense)             (None, 128)               32896     \n",
            "                                                                 \n",
            " batch_normalization_20 (Ba  (None, 128)               512       \n",
            " tchNormalization)                                               \n",
            "                                                                 \n",
            " activation_20 (Activation)  (None, 128)               0         \n",
            "                                                                 \n",
            " dropout_19 (Dropout)        (None, 128)               0         \n",
            "                                                                 \n",
            " dense_9 (Dense)             (None, 4)                 516       \n",
            "                                                                 \n",
            "=================================================================\n",
            "Total params: 194308 (759.02 KB)\n",
            "Trainable params: 193092 (754.27 KB)\n",
            "Non-trainable params: 1216 (4.75 KB)\n",
            "_________________________________________________________________\n"
          ]
        }
      ]
    },
    {
      "cell_type": "code",
      "source": [
        "from tensorflow.keras.callbacks import ModelCheckpoint, TensorBoard, LearningRateScheduler\n",
        "import datetime\n",
        "\n",
        "\n",
        "# Define the callbacks\n",
        "checkpoint_callback = ModelCheckpoint(filepath='model.h5', monitor='val_accuracy', save_best_only=True)\n",
        "tensorboard_callback = TensorBoard(log_dir=\"logs/fit/\" + datetime.datetime.now().strftime(\"%Y%m%d-%H%M%S\"), histogram_freq=1)\n",
        "\n",
        "# Train the model with the callbacks\n",
        "history = model.fit(train_ds, validation_data=val_ds, epochs=10,\n",
        "                    callbacks=[early_stopping, checkpoint_callback, tensorboard_callback])\n"
      ],
      "metadata": {
        "colab": {
          "base_uri": "https://localhost:8080/"
        },
        "id": "WQse0d2XD1YZ",
        "outputId": "cf626e5b-a48c-4470-b843-d3c454f5487e"
      },
      "execution_count": 57,
      "outputs": [
        {
          "output_type": "stream",
          "name": "stdout",
          "text": [
            "Epoch 1/10\n",
            "543/543 [==============================] - 53s 97ms/step - loss: 0.1534 - accuracy: 0.9667 - val_loss: 1.7735 - val_accuracy: 0.7054\n",
            "Epoch 2/10\n",
            "543/543 [==============================] - 43s 79ms/step - loss: 0.1320 - accuracy: 0.9726 - val_loss: 0.2281 - val_accuracy: 0.9334\n",
            "Epoch 3/10\n",
            "543/543 [==============================] - 42s 77ms/step - loss: 0.1164 - accuracy: 0.9788 - val_loss: 0.4451 - val_accuracy: 0.8423\n",
            "Epoch 4/10\n",
            "543/543 [==============================] - 44s 81ms/step - loss: 0.1066 - accuracy: 0.9814 - val_loss: 3.8430 - val_accuracy: 0.8173\n",
            "Epoch 5/10\n",
            "543/543 [==============================] - 41s 75ms/step - loss: 0.0962 - accuracy: 0.9859 - val_loss: 1.3354 - val_accuracy: 0.8037\n",
            "Epoch 6/10\n",
            "543/543 [==============================] - 43s 80ms/step - loss: 0.0905 - accuracy: 0.9865 - val_loss: 0.1418 - val_accuracy: 0.9714\n",
            "Epoch 7/10\n",
            "543/543 [==============================] - 41s 76ms/step - loss: 0.0852 - accuracy: 0.9888 - val_loss: 0.1767 - val_accuracy: 0.9625\n",
            "Epoch 8/10\n",
            "543/543 [==============================] - 43s 80ms/step - loss: 0.0861 - accuracy: 0.9886 - val_loss: 0.3262 - val_accuracy: 0.8683\n",
            "Epoch 9/10\n",
            "543/543 [==============================] - 44s 80ms/step - loss: 0.0838 - accuracy: 0.9897 - val_loss: 0.1476 - val_accuracy: 0.9724\n",
            "Epoch 10/10\n",
            "542/543 [============================>.] - ETA: 0s - loss: 0.0807 - accuracy: 0.9912Restoring model weights from the end of the best epoch: 6.\n",
            "543/543 [==============================] - 42s 77ms/step - loss: 0.0807 - accuracy: 0.9912 - val_loss: 0.6374 - val_accuracy: 0.8891\n",
            "Epoch 10: early stopping\n"
          ]
        }
      ]
    },
    {
      "cell_type": "markdown",
      "source": [
        "Save model as .h5 file"
      ],
      "metadata": {
        "id": "TWtvmq1Wl9xA"
      }
    },
    {
      "cell_type": "code",
      "source": [
        "from google.colab import files\n",
        "\n",
        "model_file_name = \"ConvModelFinished.h5\"\n",
        "print(f\"Saving model to {model_file_name}\")\n",
        "model.save(model_file_name, overwrite=True)\n",
        "\n",
        "# Download the model file\n",
        "files.download(model_file_name)\n"
      ],
      "metadata": {
        "id": "cmZ3WtoqD2m_",
        "colab": {
          "base_uri": "https://localhost:8080/",
          "height": 89
        },
        "outputId": "d5b67137-80f0-44a3-c0a7-0b8813a23e12"
      },
      "execution_count": 91,
      "outputs": [
        {
          "output_type": "stream",
          "name": "stdout",
          "text": [
            "Saving model to ConvModelFinished.h5\n"
          ]
        },
        {
          "output_type": "stream",
          "name": "stderr",
          "text": [
            "/usr/local/lib/python3.10/dist-packages/keras/src/engine/training.py:3103: UserWarning: You are saving your model as an HDF5 file via `model.save()`. This file format is considered legacy. We recommend using instead the native Keras format, e.g. `model.save('my_model.keras')`.\n",
            "  saving_api.save_model(\n"
          ]
        },
        {
          "output_type": "display_data",
          "data": {
            "text/plain": [
              "<IPython.core.display.Javascript object>"
            ],
            "application/javascript": [
              "\n",
              "    async function download(id, filename, size) {\n",
              "      if (!google.colab.kernel.accessAllowed) {\n",
              "        return;\n",
              "      }\n",
              "      const div = document.createElement('div');\n",
              "      const label = document.createElement('label');\n",
              "      label.textContent = `Downloading \"${filename}\": `;\n",
              "      div.appendChild(label);\n",
              "      const progress = document.createElement('progress');\n",
              "      progress.max = size;\n",
              "      div.appendChild(progress);\n",
              "      document.body.appendChild(div);\n",
              "\n",
              "      const buffers = [];\n",
              "      let downloaded = 0;\n",
              "\n",
              "      const channel = await google.colab.kernel.comms.open(id);\n",
              "      // Send a message to notify the kernel that we're ready.\n",
              "      channel.send({})\n",
              "\n",
              "      for await (const message of channel.messages) {\n",
              "        // Send a message to notify the kernel that we're ready.\n",
              "        channel.send({})\n",
              "        if (message.buffers) {\n",
              "          for (const buffer of message.buffers) {\n",
              "            buffers.push(buffer);\n",
              "            downloaded += buffer.byteLength;\n",
              "            progress.value = downloaded;\n",
              "          }\n",
              "        }\n",
              "      }\n",
              "      const blob = new Blob(buffers, {type: 'application/binary'});\n",
              "      const a = document.createElement('a');\n",
              "      a.href = window.URL.createObjectURL(blob);\n",
              "      a.download = filename;\n",
              "      div.appendChild(a);\n",
              "      a.click();\n",
              "      div.remove();\n",
              "    }\n",
              "  "
            ]
          },
          "metadata": {}
        },
        {
          "output_type": "display_data",
          "data": {
            "text/plain": [
              "<IPython.core.display.Javascript object>"
            ],
            "application/javascript": [
              "download(\"download_3dee7b3c-b007-4ed4-93a9-950dcc862f1e\", \"ConvModelFinished.h5\", 2432176)"
            ]
          },
          "metadata": {}
        }
      ]
    },
    {
      "cell_type": "code",
      "source": [
        "with open(model_file_name.split('.')[0] + '.txt', 'w') as fpo:\n",
        "    fpo.write(f\"i16min            = {i16min           }\\n\")\n",
        "    fpo.write(f\"i16max            = {i16max           }\\n\")\n",
        "    fpo.write(f\"fsamp             = {fsamp            }\\n\")\n",
        "    fpo.write(f\"wave_length_ms    = {wave_length_ms   }\\n\")\n",
        "    fpo.write(f\"wave_length_samps = {wave_length_samps}\\n\")\n",
        "    fpo.write(f\"window_size_ms    = {window_size_ms   }\\n\")\n",
        "    fpo.write(f\"window_step_ms    = {window_step_ms   }\\n\")\n",
        "    fpo.write(f\"num_filters       = {num_filters      }\\n\")\n",
        "    fpo.write(f\"use_microfrontend = {use_microfrontend}\\n\")\n",
        "    fpo.write(f\"label_list        = {label_list}\\n\")\n",
        "    fpo.write(f\"spectrogram_shape = {spectrogram.numpy().shape}\\n\")\n"
      ],
      "metadata": {
        "id": "9w9YqMYXD3_V"
      },
      "execution_count": 59,
      "outputs": []
    },
    {
      "cell_type": "markdown",
      "source": [
        "Plot training and validation losses and accuracies"
      ],
      "metadata": {
        "id": "64W4A6tymEJe"
      }
    },
    {
      "cell_type": "code",
      "source": [
        "import matplotlib.pyplot as plt\n",
        "\n",
        "# Assuming 'history' is the variable that stores the model training history\n",
        "metrics = history.history\n",
        "\n",
        "# Plot the training and validation loss on the top subplot\n",
        "plt.subplot(2,1,1)\n",
        "plt.semilogy(history.epoch, metrics['loss'], metrics['val_loss'])\n",
        "plt.legend(['training', 'validation'])\n",
        "plt.ylabel('Loss')\n",
        "plt.xlabel('Epoch')\n",
        "\n",
        "# Plot the training and validation accuracy on the bottom subplot\n",
        "plt.subplot(2,1,2)\n",
        "plt.plot(history.epoch, metrics['accuracy'], metrics['val_accuracy'])\n",
        "plt.legend(['training', 'validation'])\n",
        "plt.ylabel('Accuracy')\n",
        "plt.xlabel('Epoch')\n",
        "\n",
        "# Save the plot as a PNG file\n",
        "# plt.savefig('./figs/loss and acc.png', dpi=300, bbox_inches='tight')"
      ],
      "metadata": {
        "id": "RsabRLTZD5bL",
        "colab": {
          "base_uri": "https://localhost:8080/",
          "height": 466
        },
        "outputId": "a3925220-3e75-47c1-dd49-6491368d64b6"
      },
      "execution_count": 60,
      "outputs": [
        {
          "output_type": "execute_result",
          "data": {
            "text/plain": [
              "Text(0.5, 0, 'Epoch')"
            ]
          },
          "metadata": {},
          "execution_count": 60
        },
        {
          "output_type": "display_data",
          "data": {
            "text/plain": [
              "<Figure size 640x480 with 2 Axes>"
            ],
            "image/png": "[encoded data removed]"
          },
          "metadata": {}
        }
      ]
    },
    {
      "cell_type": "code",
      "source": [
        "test_audio = []\n",
        "test_labels = []\n",
        "\n",
        "for audio, label in test_ds:\n",
        "  test_audio.append(audio.numpy())\n",
        "  test_labels.append(label.numpy())\n",
        "\n",
        "test_audio = np.array(test_audio)\n",
        "test_labels = np.array(test_labels)"
      ],
      "metadata": {
        "id": "s5ATrzBjD8Ih"
      },
      "execution_count": 61,
      "outputs": []
    },
    {
      "cell_type": "code",
      "source": [
        "y_pred = np.argmax(model.predict(test_audio), axis=1)\n",
        "y_true = test_labels\n",
        "\n",
        "test_acc = sum(y_pred == y_true) / len(y_true)\n",
        "print(f'Test set accuracy: {test_acc:.0%}')"
      ],
      "metadata": {
        "id": "yqnPX92sD9bF",
        "colab": {
          "base_uri": "https://localhost:8080/"
        },
        "outputId": "bdeb0f5a-722d-43d4-d6b5-7222f1351d56"
      },
      "execution_count": 62,
      "outputs": [
        {
          "output_type": "stream",
          "name": "stdout",
          "text": [
            "150/150 [==============================] - 2s 14ms/step\n",
            "Test set accuracy: 97%\n"
          ]
        }
      ]
    },
    {
      "cell_type": "markdown",
      "source": [
        "Plot test set confusion matrix"
      ],
      "metadata": {
        "id": "88vdbLvAmP6h"
      }
    },
    {
      "cell_type": "code",
      "source": [
        "confusion_mtx = tf.math.confusion_matrix(y_true, y_pred)\n",
        "\n",
        "frr_list = []\n",
        "for i in range(len(label_list)):\n",
        "  tp = confusion_mtx[i][i]\n",
        "  fn = sum(confusion_mtx[i]) - tp\n",
        "  frr = fn / (fn + tp)\n",
        "  frr_list.append(frr)\n",
        "  print(f'{label_list[i]} FRR: {frr:.0%}')\n",
        "\n",
        "plt.figure(figsize=(6, 6))\n",
        "sns.heatmap(confusion_mtx, xticklabels=label_list, yticklabels=label_list,\n",
        "            annot=True, fmt='g')\n",
        "plt.gca().invert_yaxis() # flip so origin is at bottom left\n",
        "plt.xlabel('Prediction')\n",
        "plt.ylabel('Label')\n",
        "plt.title(f'Test set conf matrix\\nFRR: {np.mean(frr_list):.0%}')\n",
        "plt.show()\n"
      ],
      "metadata": {
        "id": "UtXVKG3_EAVi",
        "colab": {
          "base_uri": "https://localhost:8080/",
          "height": 654
        },
        "outputId": "06353ba7-7ccf-4248-f7a1-1b8aa85d35bc"
      },
      "execution_count": 63,
      "outputs": [
        {
          "output_type": "stream",
          "name": "stdout",
          "text": [
            "_silence FRR: 0%\n",
            "_unknown FRR: nan%\n",
            "yes FRR: 8%\n",
            "banana FRR: 0%\n"
          ]
        },
        {
          "output_type": "display_data",
          "data": {
            "text/plain": [
              "<Figure size 600x600 with 2 Axes>"
            ],
            "image/png": "[encoded data removed]"
          },
          "metadata": {}
        }
      ]
    },
    {
      "cell_type": "markdown",
      "source": [
        "Plot training set confusion matrix"
      ],
      "metadata": {
        "id": "fJzgj_5jmWBA"
      }
    },
    {
      "cell_type": "code",
      "source": [
        "dset = train_ds.unbatch()\n",
        "print(\"On training set:\")\n",
        "\n",
        "ds_audio = []\n",
        "ds_labels = []\n",
        "\n",
        "for audio, label in dset:\n",
        "  ds_audio.append(audio.numpy())\n",
        "  ds_labels.append(label.numpy())\n",
        "\n",
        "ds_labels = np.array(ds_labels)\n",
        "ds_audio = np.array(ds_audio)\n",
        "\n",
        "model_out = model.predict(ds_audio)\n",
        "y_pred = np.argmax(model_out, axis=1)\n",
        "y_true = ds_labels\n",
        "\n",
        "ds_acc = sum(y_pred == y_true) / len(y_true)\n",
        "print(f'Data set accuracy: {ds_acc:.0%}')\n",
        "\n",
        "confusion_mtx = tf.math.confusion_matrix(y_true, y_pred)\n",
        "\n",
        "frr_list = []\n",
        "for i in range(len(label_list)):\n",
        "  tp = confusion_mtx[i][i]\n",
        "  fn = sum(confusion_mtx[i]) - tp\n",
        "  frr = fn / (fn + tp)\n",
        "  frr_list.append(frr)\n",
        "  print(f'{label_list[i]} FRR: {frr:.0%}')\n",
        "\n",
        "plt.figure(figsize=(5,4))\n",
        "sns.heatmap(confusion_mtx, xticklabels=label_list, yticklabels=label_list,\n",
        "            annot=True, fmt='g')\n",
        "plt.xlabel('Prediction')\n",
        "plt.ylabel('Label')\n",
        "plt.show()\n"
      ],
      "metadata": {
        "id": "lnLEaoNyEBk7",
        "colab": {
          "base_uri": "https://localhost:8080/",
          "height": 509
        },
        "outputId": "be6627cb-5cfb-400e-b9ca-624db34d5280"
      },
      "execution_count": 64,
      "outputs": [
        {
          "output_type": "stream",
          "name": "stdout",
          "text": [
            "On training set:\n",
            "1085/1085 [==============================] - 13s 12ms/step\n",
            "Data set accuracy: 91%\n",
            "_silence FRR: 0%\n",
            "_unknown FRR: 1%\n",
            "yes FRR: 34%\n",
            "banana FRR: 0%\n"
          ]
        },
        {
          "output_type": "display_data",
          "data": {
            "text/plain": [
              "<Figure size 500x400 with 2 Axes>"
            ],
            "image/png": "[encoded data removed]"
          },
          "metadata": {}
        }
      ]
    },
    {
      "cell_type": "markdown",
      "source": [
        "Quantize and convert to TFLite"
      ],
      "metadata": {
        "id": "e88YgI5am_ts"
      }
    },
    {
      "cell_type": "code",
      "source": [
        "import tensorflow as tf\n",
        "import numpy as np\n",
        "\n",
        "# Load the Keras model from .h5 file\n",
        "model = tf.keras.models.load_model('ConvModelFinished.h5')\n",
        "\n",
        "# Set up TFLite converter\n",
        "converter = tf.lite.TFLiteConverter.from_keras_model(model)\n",
        "converter.optimizations = [tf.lite.Optimize.DEFAULT]\n",
        "\n",
        "# Disable experimental lowering of tensor list ops\n",
        "converter._experimental_lower_tensor_list_ops = False\n",
        "\n",
        "# Enable Select TensorFlow ops\n",
        "converter.target_spec.supported_ops = [tf.lite.OpsSet.TFLITE_BUILTINS, tf.lite.OpsSet.SELECT_TF_OPS]\n",
        "\n",
        "# Set other converter settings as before\n",
        "num_calibration_steps = 10\n",
        "ds_iter = val_ds.unbatch().batch(1).as_numpy_iterator()\n",
        "\n",
        "def representative_dataset_gen():\n",
        "    for _ in range(num_calibration_steps):\n",
        "        next_input = next(ds_iter)[0]\n",
        "        next_input = next_input.astype(np.float32)\n",
        "        yield [next_input]\n",
        "\n",
        "converter.representative_dataset = representative_dataset_gen\n",
        "converter.inference_input_type = tf.int8\n",
        "converter.inference_output_type = tf.int8\n",
        "\n",
        "# Convert the model to TensorFlow Lite format\n",
        "tflite_quant_model = converter.convert()\n",
        "\n",
        "# Save the TensorFlow Lite model to a .tflite file\n",
        "tflite_file_name = 'model.tflite'\n",
        "with open(tflite_file_name, \"wb\") as fpo:\n",
        "    num_bytes_written = fpo.write(tflite_quant_model)\n",
        "print(f\"Wrote {num_bytes_written} / {len(tflite_quant_model)} bytes to tflite file\")\n",
        "\n",
        "# Convert the .tflite file to a .cc file\n",
        "!xxd -i {tflite_file_name} > model.cc\n",
        "\n",
        "\n",
        "# Save the TensorFlow Lite model to a .tflite file\n",
        "tflite_file_name = 'model.tflite'\n",
        "with open(tflite_file_name, \"wb\") as fpo:\n",
        "    num_bytes_written = fpo.write(tflite_quant_model)\n",
        "print(f\"Wrote {num_bytes_written} / {len(tflite_quant_model)} bytes to tflite file\")\n",
        "\n",
        "# Convert the .tflite file to a .cc file\n",
        "!xxd -i {tflite_file_name} > model.cc\n",
        "\n",
        "# Download the C++ file\n",
        "from google.colab import files\n",
        "files.download('model.cc')"
      ],
      "metadata": {
        "id": "3mG4sFFtm-x5"
      },
      "execution_count": null,
      "outputs": []
    },
    {
      "cell_type": "code",
      "source": [
        "# Download the .tflite file\n",
        "from google.colab import files\n",
        "files.download('model.tflite')"
      ],
      "metadata": {
        "id": "JPIt1QkmnG-D"
      },
      "execution_count": null,
      "outputs": []
    },
    {
      "cell_type": "markdown",
      "source": [
        "# GRU MODEL"
      ],
      "metadata": {
        "id": "-e0T6gFCmmUO"
      }
    },
    {
      "cell_type": "markdown",
      "source": [
        "Build model"
      ],
      "metadata": {
        "id": "vonCoDu6EFh6"
      }
    },
    {
      "cell_type": "code",
      "source": [
        "from tensorflow.keras import layers, models, regularizers\n",
        "\n",
        "def lstm_build_model(input_shape, num_labels, l2, lr):\n",
        "    print('Input shape:', input_shape)\n",
        "    model = models.Sequential([\n",
        "        layers.Input(shape=input_shape),\n",
        "        layers.Conv2D(32, 3, kernel_regularizer=regularizers.l2(l2)),\n",
        "        layers.BatchNormalization(),\n",
        "        layers.Activation('relu'),\n",
        "        layers.MaxPooling2D(name='pool1'),\n",
        "\n",
        "        layers.Conv2D(64, 3, kernel_regularizer=regularizers.l2(l2)),\n",
        "        layers.BatchNormalization(),\n",
        "        layers.Activation('relu'),\n",
        "        layers.MaxPooling2D(name='pool2'),\n",
        "\n",
        "        layers.Conv2D(128, 3, kernel_regularizer=regularizers.l2(l2)),\n",
        "        layers.BatchNormalization(),\n",
        "        layers.Activation('relu'),\n",
        "        layers.MaxPooling2D(name='pool3'),\n",
        "\n",
        "        layers.Flatten(),\n",
        "        layers.Dense(256, kernel_regularizer=regularizers.l2(l2)),\n",
        "        layers.BatchNormalization(),\n",
        "        layers.Activation('relu'),\n",
        "        layers.Dropout(0.5),\n",
        "\n",
        "        layers.Dense(128, kernel_regularizer=regularizers.l2(l2)),\n",
        "        layers.BatchNormalization(),\n",
        "        layers.Activation('relu'),\n",
        "        layers.Dropout(0.5),\n",
        "\n",
        "        layers.Reshape((-1, 128)),  # Reshape for LSTM layer\n",
        "        layers.LSTM(128),  # Adjust the number of units to match the Dense layer\n",
        "        layers.Dense(num_labels),\n",
        "    ], name=\"modified_lstm_model\")\n",
        "\n",
        "    model.compile(\n",
        "        optimizer=tf.keras.optimizers.Adam(learning_rate=lr),\n",
        "        loss=tf.keras.losses.SparseCategoricalCrossentropy(from_logits=True),\n",
        "        metrics=['accuracy'],\n",
        "    )\n",
        "\n",
        "    early_stopping = tf.keras.callbacks.EarlyStopping(\n",
        "        monitor='val_accuracy',\n",
        "        min_delta=0.01,\n",
        "        patience=4,\n",
        "        verbose=2,\n",
        "        mode='max',\n",
        "        restore_best_weights=True)\n",
        "\n",
        "    return model, early_stopping\n"
      ],
      "metadata": {
        "id": "MzNN9gZtEC35"
      },
      "execution_count": 115,
      "outputs": []
    },
    {
      "cell_type": "code",
      "source": [
        "from tensorflow.keras.callbacks import ModelCheckpoint, TensorBoard, EarlyStopping\n",
        "import datetime\n",
        "\n",
        "l2_value=0.0001\n",
        "lr=0.001\n",
        "EPOCHS=50\n",
        "\n",
        "# Create GRU model and early stopping callback\n",
        "model, early_stopping = lstm_build_model(input_shape, num_labels, l2_value, lr)\n",
        "model.summary()\n",
        "\n",
        "# Define callbacks\n",
        "checkpoint_callback = ModelCheckpoint(filepath='gru_model.h5', monitor='val_accuracy', save_best_only=True)\n",
        "tensorboard_callback = TensorBoard(log_dir=\"logs/gru_fit/\" + datetime.datetime.now().strftime(\"%Y%m%d-%H%M%S\"), histogram_freq=1)\n",
        "\n",
        "# Train the GRU model with the callbacks\n",
        "gru_history = model.fit(train_ds, validation_data=val_ds, epochs=10,\n",
        "                    callbacks=[early_stopping, checkpoint_callback, tensorboard_callback])\n"
      ],
      "metadata": {
        "id": "Zfk-MBFoEJUJ",
        "colab": {
          "base_uri": "https://localhost:8080/"
        },
        "outputId": "740448c2-6348-416f-e87f-1bff0713a714"
      },
      "execution_count": 117,
      "outputs": [
        {
          "output_type": "stream",
          "name": "stdout",
          "text": [
            "Input shape: (24, 32, 1)\n",
            "Model: \"modified_lstm_model\"\n",
            "_________________________________________________________________\n",
            " Layer (type)                Output Shape              Param #   \n",
            "=================================================================\n",
            " conv2d_42 (Conv2D)          (None, 22, 30, 32)        320       \n",
            "                                                                 \n",
            " batch_normalization_70 (Ba  (None, 22, 30, 32)        128       \n",
            " tchNormalization)                                               \n",
            "                                                                 \n",
            " activation_70 (Activation)  (None, 22, 30, 32)        0         \n",
            "                                                                 \n",
            " pool1 (MaxPooling2D)        (None, 11, 15, 32)        0         \n",
            "                                                                 \n",
            " conv2d_43 (Conv2D)          (None, 9, 13, 64)         18496     \n",
            "                                                                 \n",
            " batch_normalization_71 (Ba  (None, 9, 13, 64)         256       \n",
            " tchNormalization)                                               \n",
            "                                                                 \n",
            " activation_71 (Activation)  (None, 9, 13, 64)         0         \n",
            "                                                                 \n",
            " pool2 (MaxPooling2D)        (None, 4, 6, 64)          0         \n",
            "                                                                 \n",
            " conv2d_44 (Conv2D)          (None, 2, 4, 128)         73856     \n",
            "                                                                 \n",
            " batch_normalization_72 (Ba  (None, 2, 4, 128)         512       \n",
            " tchNormalization)                                               \n",
            "                                                                 \n",
            " activation_72 (Activation)  (None, 2, 4, 128)         0         \n",
            "                                                                 \n",
            " pool3 (MaxPooling2D)        (None, 1, 2, 128)         0         \n",
            "                                                                 \n",
            " flatten_14 (Flatten)        (None, 256)               0         \n",
            "                                                                 \n",
            " dense_42 (Dense)            (None, 256)               65792     \n",
            "                                                                 \n",
            " batch_normalization_73 (Ba  (None, 256)               1024      \n",
            " tchNormalization)                                               \n",
            "                                                                 \n",
            " activation_73 (Activation)  (None, 256)               0         \n",
            "                                                                 \n",
            " dropout_40 (Dropout)        (None, 256)               0         \n",
            "                                                                 \n",
            " dense_43 (Dense)            (None, 128)               32896     \n",
            "                                                                 \n",
            " batch_normalization_74 (Ba  (None, 128)               512       \n",
            " tchNormalization)                                               \n",
            "                                                                 \n",
            " activation_74 (Activation)  (None, 128)               0         \n",
            "                                                                 \n",
            " dropout_41 (Dropout)        (None, 128)               0         \n",
            "                                                                 \n",
            " reshape_13 (Reshape)        (None, 1, 128)            0         \n",
            "                                                                 \n",
            " lstm_6 (LSTM)               (None, 128)               131584    \n",
            "                                                                 \n",
            " dense_44 (Dense)            (None, 4)                 516       \n",
            "                                                                 \n",
            "=================================================================\n",
            "Total params: 325892 (1.24 MB)\n",
            "Trainable params: 324676 (1.24 MB)\n",
            "Non-trainable params: 1216 (4.75 KB)\n",
            "_________________________________________________________________\n",
            "Epoch 1/10\n",
            "541/543 [============================>.] - ETA: 0s - loss: 0.3341 - accuracy: 0.8959"
          ]
        },
        {
          "output_type": "stream",
          "name": "stderr",
          "text": [
            "/usr/local/lib/python3.10/dist-packages/keras/src/engine/training.py:3103: UserWarning: You are saving your model as an HDF5 file via `model.save()`. This file format is considered legacy. We recommend using instead the native Keras format, e.g. `model.save('my_model.keras')`.\n",
            "  saving_api.save_model(\n"
          ]
        },
        {
          "output_type": "stream",
          "name": "stdout",
          "text": [
            "\b\b\b\b\b\b\b\b\b\b\b\b\b\b\b\b\b\b\b\b\b\b\b\b\b\b\b\b\b\b\b\b\b\b\b\b\b\b\b\b\b\b\b\b\b\b\b\b\b\b\b\b\b\b\b\b\b\b\b\b\b\b\b\b\b\b\b\b\b\b\b\b\b\b\b\b\b\b\b\b\b\b\b\b\r543/543 [==============================] - 12s 12ms/step - loss: 0.3339 - accuracy: 0.8960 - val_loss: 1.5263 - val_accuracy: 0.7605\n",
            "Epoch 2/10\n",
            "543/543 [==============================] - 7s 13ms/step - loss: 0.1896 - accuracy: 0.9547 - val_loss: 1.4003 - val_accuracy: 0.8074\n",
            "Epoch 3/10\n",
            "543/543 [==============================] - 6s 10ms/step - loss: 0.1525 - accuracy: 0.9661 - val_loss: 1.0190 - val_accuracy: 0.8074\n",
            "Epoch 4/10\n",
            "543/543 [==============================] - 6s 12ms/step - loss: 0.1379 - accuracy: 0.9728 - val_loss: 1.3898 - val_accuracy: 0.8183\n",
            "Epoch 5/10\n",
            "543/543 [==============================] - 6s 12ms/step - loss: 0.1231 - accuracy: 0.9761 - val_loss: 1.6593 - val_accuracy: 0.6715\n",
            "Epoch 6/10\n",
            "543/543 [==============================] - 6s 12ms/step - loss: 0.1146 - accuracy: 0.9790 - val_loss: 0.5516 - val_accuracy: 0.8376\n",
            "Epoch 7/10\n",
            "543/543 [==============================] - 6s 11ms/step - loss: 0.1023 - accuracy: 0.9844 - val_loss: 0.2571 - val_accuracy: 0.9365\n",
            "Epoch 8/10\n",
            "543/543 [==============================] - 7s 12ms/step - loss: 0.1044 - accuracy: 0.9846 - val_loss: 0.2585 - val_accuracy: 0.9167\n",
            "Epoch 9/10\n",
            "543/543 [==============================] - 6s 11ms/step - loss: 0.0968 - accuracy: 0.9870 - val_loss: 1.5530 - val_accuracy: 0.8121\n",
            "Epoch 10/10\n",
            "543/543 [==============================] - 7s 13ms/step - loss: 0.0970 - accuracy: 0.9866 - val_loss: 0.2499 - val_accuracy: 0.9459\n"
          ]
        }
      ]
    },
    {
      "cell_type": "markdown",
      "source": [
        "Plot training and validation losses and accuracies"
      ],
      "metadata": {
        "id": "iRgE4EstmuE_"
      }
    },
    {
      "cell_type": "code",
      "source": [
        "import matplotlib.pyplot as plt\n",
        "\n",
        "# Assuming 'history' is the variable that stores the model training history\n",
        "metrics = gru_history.history\n",
        "\n",
        "# Plot the training and validation loss on the top subplot\n",
        "plt.subplot(2,1,1)\n",
        "plt.semilogy(gru_history.epoch, metrics['loss'], metrics['val_loss'])\n",
        "plt.legend(['training', 'validation'])\n",
        "plt.ylabel('Loss')\n",
        "plt.xlabel('Epoch')\n",
        "\n",
        "# Plot the training and validation accuracy on the bottom subplot\n",
        "plt.subplot(2,1,2)\n",
        "plt.plot(gru_history.epoch, metrics['accuracy'], metrics['val_accuracy'])\n",
        "plt.legend(['training', 'validation'])\n",
        "plt.ylabel('Accuracy')\n",
        "plt.xlabel('Epoch')\n",
        "\n",
        "# Save the plot as a PNG file\n",
        "# plt.savefig('./figs/loss and acc.png', dpi=300, bbox_inches='tight')"
      ],
      "metadata": {
        "colab": {
          "base_uri": "https://localhost:8080/",
          "height": 466
        },
        "id": "yHdxiAJ1vrBs",
        "outputId": "4780c20d-4e57-476c-dcb5-6e4eacef9f2f"
      },
      "execution_count": 118,
      "outputs": [
        {
          "output_type": "execute_result",
          "data": {
            "text/plain": [
              "Text(0.5, 0, 'Epoch')"
            ]
          },
          "metadata": {},
          "execution_count": 118
        },
        {
          "output_type": "display_data",
          "data": {
            "text/plain": [
              "<Figure size 640x480 with 2 Axes>"
            ],
            "image/png": "[encoded data removed]"
          },
          "metadata": {}
        }
      ]
    },
    {
      "cell_type": "markdown",
      "source": [
        "Save model as .h5 file"
      ],
      "metadata": {
        "id": "RWHzJAMcmxak"
      }
    },
    {
      "cell_type": "code",
      "source": [
        "from google.colab import files\n",
        "\n",
        "model_file_name = \"GruModelFinished.h5\"\n",
        "print(f\"Saving model to {model_file_name}\")\n",
        "model.save(model_file_name, overwrite=True)\n",
        "\n",
        "# Download the model file\n",
        "files.download(model_file_name)\n"
      ],
      "metadata": {
        "id": "-CpKkwotEJq-",
        "colab": {
          "base_uri": "https://localhost:8080/",
          "height": 34
        },
        "outputId": "73c0a997-452d-4051-b2f3-cc3389fde9ca"
      },
      "execution_count": 119,
      "outputs": [
        {
          "output_type": "stream",
          "name": "stdout",
          "text": [
            "Saving model to GruModelFinished.h5\n"
          ]
        },
        {
          "output_type": "display_data",
          "data": {
            "text/plain": [
              "<IPython.core.display.Javascript object>"
            ],
            "application/javascript": [
              "\n",
              "    async function download(id, filename, size) {\n",
              "      if (!google.colab.kernel.accessAllowed) {\n",
              "        return;\n",
              "      }\n",
              "      const div = document.createElement('div');\n",
              "      const label = document.createElement('label');\n",
              "      label.textContent = `Downloading \"${filename}\": `;\n",
              "      div.appendChild(label);\n",
              "      const progress = document.createElement('progress');\n",
              "      progress.max = size;\n",
              "      div.appendChild(progress);\n",
              "      document.body.appendChild(div);\n",
              "\n",
              "      const buffers = [];\n",
              "      let downloaded = 0;\n",
              "\n",
              "      const channel = await google.colab.kernel.comms.open(id);\n",
              "      // Send a message to notify the kernel that we're ready.\n",
              "      channel.send({})\n",
              "\n",
              "      for await (const message of channel.messages) {\n",
              "        // Send a message to notify the kernel that we're ready.\n",
              "        channel.send({})\n",
              "        if (message.buffers) {\n",
              "          for (const buffer of message.buffers) {\n",
              "            buffers.push(buffer);\n",
              "            downloaded += buffer.byteLength;\n",
              "            progress.value = downloaded;\n",
              "          }\n",
              "        }\n",
              "      }\n",
              "      const blob = new Blob(buffers, {type: 'application/binary'});\n",
              "      const a = document.createElement('a');\n",
              "      a.href = window.URL.createObjectURL(blob);\n",
              "      a.download = filename;\n",
              "      div.appendChild(a);\n",
              "      a.click();\n",
              "      div.remove();\n",
              "    }\n",
              "  "
            ]
          },
          "metadata": {}
        },
        {
          "output_type": "display_data",
          "data": {
            "text/plain": [
              "<IPython.core.display.Javascript object>"
            ],
            "application/javascript": [
              "download(\"download_af513e09-eadc-4f8d-a942-3722aca49b67\", \"GruModelFinished.h5\", 4025352)"
            ]
          },
          "metadata": {}
        }
      ]
    },
    {
      "cell_type": "markdown",
      "source": [
        "Plot test set confusion matrix"
      ],
      "metadata": {
        "id": "D78I2zZEm0wk"
      }
    },
    {
      "cell_type": "code",
      "source": [
        "test_audio = []\n",
        "test_labels = []\n",
        "\n",
        "for audio, label in test_ds:\n",
        "  test_audio.append(audio.numpy())\n",
        "  test_labels.append(label.numpy())\n",
        "\n",
        "test_audio = np.array(test_audio)\n",
        "test_labels = np.array(test_labels)"
      ],
      "metadata": {
        "id": "knpn5e4kELIa"
      },
      "execution_count": 120,
      "outputs": []
    },
    {
      "cell_type": "code",
      "source": [
        "y_pred = np.argmax(model.predict(test_audio), axis=1)\n",
        "y_true = test_labels\n",
        "\n",
        "test_acc = sum(y_pred == y_true) / len(y_true)\n",
        "print(f'Test set accuracy: {test_acc:.0%}')"
      ],
      "metadata": {
        "colab": {
          "base_uri": "https://localhost:8080/"
        },
        "id": "FDFUcBCUELxx",
        "outputId": "8c15309d-7008-4528-e87d-0765d2cdca8f"
      },
      "execution_count": 121,
      "outputs": [
        {
          "output_type": "stream",
          "name": "stdout",
          "text": [
            "150/150 [==============================] - 1s 3ms/step\n",
            "Test set accuracy: 95%\n"
          ]
        }
      ]
    },
    {
      "cell_type": "code",
      "source": [
        "confusion_mtx = tf.math.confusion_matrix(y_true, y_pred)\n",
        "\n",
        "frr_list = []\n",
        "for i in range(len(label_list)):\n",
        "  tp = confusion_mtx[i][i]\n",
        "  fn = sum(confusion_mtx[i]) - tp\n",
        "  frr = fn / (fn + tp)\n",
        "  frr_list.append(frr)\n",
        "  print(f'{label_list[i]} FRR: {frr:.0%}')\n",
        "\n",
        "plt.figure(figsize=(6, 6))\n",
        "sns.heatmap(confusion_mtx, xticklabels=label_list, yticklabels=label_list,\n",
        "            annot=True, fmt='g')\n",
        "plt.gca().invert_yaxis() # flip so origin is at bottom left\n",
        "plt.xlabel('Prediction')\n",
        "plt.ylabel('Label')\n",
        "plt.title(f'Test set conf matrix\\nFRR: {np.mean(frr_list):.0%}')\n",
        "plt.show()\n"
      ],
      "metadata": {
        "id": "khnsvAhuELEJ",
        "colab": {
          "base_uri": "https://localhost:8080/",
          "height": 654
        },
        "outputId": "b59ad2be-a123-4a35-b755-0fd107dbf460"
      },
      "execution_count": 122,
      "outputs": [
        {
          "output_type": "stream",
          "name": "stdout",
          "text": [
            "_silence FRR: 1%\n",
            "_unknown FRR: nan%\n",
            "yes FRR: 12%\n",
            "banana FRR: 0%\n"
          ]
        },
        {
          "output_type": "display_data",
          "data": {
            "text/plain": [
              "<Figure size 600x600 with 2 Axes>"
            ],
            "image/png": "[encoded data removed]"
          },
          "metadata": {}
        }
      ]
    },
    {
      "cell_type": "markdown",
      "source": [
        "Plot training set confusion matrix"
      ],
      "metadata": {
        "id": "0OMuPZUjm3ou"
      }
    },
    {
      "cell_type": "code",
      "source": [
        "dset = train_ds.unbatch()\n",
        "print(\"On training set:\")\n",
        "\n",
        "ds_audio = []\n",
        "ds_labels = []\n",
        "\n",
        "for audio, label in dset:\n",
        "  ds_audio.append(audio.numpy())\n",
        "  ds_labels.append(label.numpy())\n",
        "\n",
        "ds_labels = np.array(ds_labels)\n",
        "ds_audio = np.array(ds_audio)\n",
        "\n",
        "model_out = model.predict(ds_audio)\n",
        "y_pred = np.argmax(model_out, axis=1)\n",
        "y_true = ds_labels\n",
        "\n",
        "ds_acc = sum(y_pred == y_true) / len(y_true)\n",
        "print(f'Data set accuracy: {ds_acc:.0%}')\n",
        "\n",
        "confusion_mtx = tf.math.confusion_matrix(y_true, y_pred)\n",
        "\n",
        "frr_list = []\n",
        "for i in range(len(label_list)):\n",
        "  tp = confusion_mtx[i][i]\n",
        "  fn = sum(confusion_mtx[i]) - tp\n",
        "  frr = fn / (fn + tp)\n",
        "  frr_list.append(frr)\n",
        "  print(f'{label_list[i]} FRR: {frr:.0%}')\n",
        "\n",
        "plt.figure(figsize=(5,4))\n",
        "sns.heatmap(confusion_mtx, xticklabels=label_list, yticklabels=label_list,\n",
        "            annot=True, fmt='g')\n",
        "plt.xlabel('Prediction')\n",
        "plt.ylabel('Label')\n",
        "plt.show()\n"
      ],
      "metadata": {
        "id": "_dmxD6LrEMVq",
        "colab": {
          "base_uri": "https://localhost:8080/",
          "height": 509
        },
        "outputId": "dd9abc8f-2c58-4dbb-8ef0-f06c64ea6566"
      },
      "execution_count": 123,
      "outputs": [
        {
          "output_type": "stream",
          "name": "stdout",
          "text": [
            "On training set:\n",
            "1085/1085 [==============================] - 4s 4ms/step\n",
            "Data set accuracy: 96%\n",
            "_silence FRR: 1%\n",
            "_unknown FRR: 0%\n",
            "yes FRR: 15%\n",
            "banana FRR: 0%\n"
          ]
        },
        {
          "output_type": "display_data",
          "data": {
            "text/plain": [
              "<Figure size 500x400 with 2 Axes>"
            ],
            "image/png": "[encoded data removed]"
          },
          "metadata": {}
        }
      ]
    },
    {
      "cell_type": "markdown",
      "source": [
        "Quantize and convert to TFLite"
      ],
      "metadata": {
        "id": "tzXoDFnVnJef"
      }
    },
    {
      "cell_type": "code",
      "source": [
        "import tensorflow as tf\n",
        "import numpy as np\n",
        "\n",
        "# Load the Keras model from .h5 file\n",
        "modelGRU = tf.keras.models.load_model('GruModelFinished.h5')\n",
        "\n",
        "# Set up TFLite converter\n",
        "converter = tf.lite.TFLiteConverter.from_keras_model(modelGRU)\n",
        "converter.optimizations = [tf.lite.Optimize.DEFAULT]\n",
        "\n",
        "# Disable experimental lowering of tensor list ops\n",
        "converter._experimental_lower_tensor_list_ops = False\n",
        "\n",
        "# Enable Select TensorFlow ops\n",
        "converter.target_spec.supported_ops = [tf.lite.OpsSet.TFLITE_BUILTINS, tf.lite.OpsSet.SELECT_TF_OPS]\n",
        "\n",
        "# Set other converter settings as before\n",
        "num_calibration_steps = 10\n",
        "ds_iter = val_ds.unbatch().batch(1).as_numpy_iterator()\n",
        "\n",
        "def representative_dataset_gen():\n",
        "    for _ in range(num_calibration_steps):\n",
        "        next_input = next(ds_iter)[0]\n",
        "        next_input = next_input.astype(np.float32)\n",
        "        yield [next_input]\n",
        "\n",
        "converter.representative_dataset = representative_dataset_gen\n",
        "converter.inference_input_type = tf.int8\n",
        "converter.inference_output_type = tf.int8\n",
        "\n",
        "# Convert the model to TensorFlow Lite format\n",
        "tflite_quant_model = converter.convert()\n",
        "\n",
        "# Save the TensorFlow Lite model to a .tflite file\n",
        "tflite_file_name = 'modelLSTM.tflite'\n",
        "with open(tflite_file_name, \"wb\") as fpo:\n",
        "    num_bytes_written = fpo.write(tflite_quant_model)\n",
        "print(f\"Wrote {num_bytes_written} / {len(tflite_quant_model)} bytes to tflite file\")\n",
        "\n",
        "# Convert the .tflite file to a .cc file\n",
        "!xxd -i {tflite_file_name} > modelGRU.cc\n",
        "\n",
        "\n",
        "# Save the TensorFlow Lite model to a .tflite file\n",
        "tflite_file_name = 'modelLSTM.tflite'\n",
        "with open(tflite_file_name, \"wb\") as fpo:\n",
        "    num_bytes_written = fpo.write(tflite_quant_model)\n",
        "print(f\"Wrote {num_bytes_written} / {len(tflite_quant_model)} bytes to tflite file\")\n",
        "\n",
        "# Convert the .tflite file to a .cc file\n",
        "!xxd -i {tflite_file_name} > modelLSTM.cc\n",
        "\n",
        "# Download the C++ file\n",
        "from google.colab import files\n",
        "files.download('modelLSTM.cc')"
      ],
      "metadata": {
        "id": "jg8fGvd0EXoh",
        "colab": {
          "base_uri": "https://localhost:8080/",
          "height": 86
        },
        "outputId": "06dae8fc-436b-47e3-98fc-9e16c96722ce"
      },
      "execution_count": 124,
      "outputs": [
        {
          "output_type": "stream",
          "name": "stderr",
          "text": [
            "/usr/local/lib/python3.10/dist-packages/tensorflow/lite/python/convert.py:953: UserWarning: Statistics for quantized inputs were expected, but not specified; continuing anyway.\n",
            "  warnings.warn(\n"
          ]
        },
        {
          "output_type": "stream",
          "name": "stdout",
          "text": [
            "Wrote 348880 / 348880 bytes to tflite file\n",
            "Wrote 348880 / 348880 bytes to tflite file\n"
          ]
        },
        {
          "output_type": "display_data",
          "data": {
            "text/plain": [
              "<IPython.core.display.Javascript object>"
            ],
            "application/javascript": [
              "\n",
              "    async function download(id, filename, size) {\n",
              "      if (!google.colab.kernel.accessAllowed) {\n",
              "        return;\n",
              "      }\n",
              "      const div = document.createElement('div');\n",
              "      const label = document.createElement('label');\n",
              "      label.textContent = `Downloading \"${filename}\": `;\n",
              "      div.appendChild(label);\n",
              "      const progress = document.createElement('progress');\n",
              "      progress.max = size;\n",
              "      div.appendChild(progress);\n",
              "      document.body.appendChild(div);\n",
              "\n",
              "      const buffers = [];\n",
              "      let downloaded = 0;\n",
              "\n",
              "      const channel = await google.colab.kernel.comms.open(id);\n",
              "      // Send a message to notify the kernel that we're ready.\n",
              "      channel.send({})\n",
              "\n",
              "      for await (const message of channel.messages) {\n",
              "        // Send a message to notify the kernel that we're ready.\n",
              "        channel.send({})\n",
              "        if (message.buffers) {\n",
              "          for (const buffer of message.buffers) {\n",
              "            buffers.push(buffer);\n",
              "            downloaded += buffer.byteLength;\n",
              "            progress.value = downloaded;\n",
              "          }\n",
              "        }\n",
              "      }\n",
              "      const blob = new Blob(buffers, {type: 'application/binary'});\n",
              "      const a = document.createElement('a');\n",
              "      a.href = window.URL.createObjectURL(blob);\n",
              "      a.download = filename;\n",
              "      div.appendChild(a);\n",
              "      a.click();\n",
              "      div.remove();\n",
              "    }\n",
              "  "
            ]
          },
          "metadata": {}
        },
        {
          "output_type": "display_data",
          "data": {
            "text/plain": [
              "<IPython.core.display.Javascript object>"
            ],
            "application/javascript": [
              "download(\"download_266aa501-c38f-4dd5-8f3c-4d0c1fb6d794\", \"modelLSTM.cc\", 2151511)"
            ]
          },
          "metadata": {}
        }
      ]
    },
    {
      "cell_type": "code",
      "source": [
        "# Load the converted TensorFlow Lite model\n",
        "interpreter = tf.lite.Interpreter(model_content=tflite_quant_model)\n",
        "interpreter.allocate_tensors()\n",
        "\n",
        "# Get input and output details\n",
        "input_details = interpreter.get_input_details()\n",
        "output_details = interpreter.get_output_details()\n",
        "\n",
        "# Print input and output details\n",
        "print(\"Input details:\", input_details)\n",
        "print(\"Output details:\", output_details)\n"
      ],
      "metadata": {
        "colab": {
          "base_uri": "https://localhost:8080/"
        },
        "id": "VkvrdMNYT_L8",
        "outputId": "6f9f98af-71b8-4f8f-e003-4775a987e393"
      },
      "execution_count": 64,
      "outputs": [
        {
          "output_type": "stream",
          "name": "stdout",
          "text": [
            "Input details: [{'name': 'serving_default_input_3:0', 'index': 0, 'shape': array([ 1, 24, 32,  1], dtype=int32), 'shape_signature': array([-1, 24, 32,  1], dtype=int32), 'dtype': <class 'numpy.int8'>, 'quantization': (2.792156934738159, -128), 'quantization_parameters': {'scales': array([2.792157], dtype=float32), 'zero_points': array([-128], dtype=int32), 'quantized_dimension': 0}, 'sparsity_parameters': {}}]\n",
            "Output details: [{'name': 'StatefulPartitionedCall:0', 'index': 58, 'shape': array([1, 4], dtype=int32), 'shape_signature': array([-1,  4], dtype=int32), 'dtype': <class 'numpy.int8'>, 'quantization': (0.04807033762335777, -18), 'quantization_parameters': {'scales': array([0.04807034], dtype=float32), 'zero_points': array([-18], dtype=int32), 'quantized_dimension': 0}, 'sparsity_parameters': {}}]\n"
          ]
        }
      ]
    },
    {
      "cell_type": "code",
      "source": [
        "# Download the .tflite file\n",
        "from google.colab import files\n",
        "files.download('modelGRU.tflite')"
      ],
      "metadata": {
        "id": "TsXF-DxD4O8G",
        "colab": {
          "base_uri": "https://localhost:8080/",
          "height": 17
        },
        "outputId": "5676e1e4-0c59-46de-c025-92400da3c923"
      },
      "execution_count": 99,
      "outputs": [
        {
          "output_type": "display_data",
          "data": {
            "text/plain": [
              "<IPython.core.display.Javascript object>"
            ],
            "application/javascript": [
              "\n",
              "    async function download(id, filename, size) {\n",
              "      if (!google.colab.kernel.accessAllowed) {\n",
              "        return;\n",
              "      }\n",
              "      const div = document.createElement('div');\n",
              "      const label = document.createElement('label');\n",
              "      label.textContent = `Downloading \"${filename}\": `;\n",
              "      div.appendChild(label);\n",
              "      const progress = document.createElement('progress');\n",
              "      progress.max = size;\n",
              "      div.appendChild(progress);\n",
              "      document.body.appendChild(div);\n",
              "\n",
              "      const buffers = [];\n",
              "      let downloaded = 0;\n",
              "\n",
              "      const channel = await google.colab.kernel.comms.open(id);\n",
              "      // Send a message to notify the kernel that we're ready.\n",
              "      channel.send({})\n",
              "\n",
              "      for await (const message of channel.messages) {\n",
              "        // Send a message to notify the kernel that we're ready.\n",
              "        channel.send({})\n",
              "        if (message.buffers) {\n",
              "          for (const buffer of message.buffers) {\n",
              "            buffers.push(buffer);\n",
              "            downloaded += buffer.byteLength;\n",
              "            progress.value = downloaded;\n",
              "          }\n",
              "        }\n",
              "      }\n",
              "      const blob = new Blob(buffers, {type: 'application/binary'});\n",
              "      const a = document.createElement('a');\n",
              "      a.href = window.URL.createObjectURL(blob);\n",
              "      a.download = filename;\n",
              "      div.appendChild(a);\n",
              "      a.click();\n",
              "      div.remove();\n",
              "    }\n",
              "  "
            ]
          },
          "metadata": {}
        },
        {
          "output_type": "display_data",
          "data": {
            "text/plain": [
              "<IPython.core.display.Javascript object>"
            ],
            "application/javascript": [
              "download(\"download_02621b76-fe0c-459d-9ace-4ef1d775222c\", \"modelGRU.tflite\", 150968)"
            ]
          },
          "metadata": {}
        }
      ]
    }
  ]
}