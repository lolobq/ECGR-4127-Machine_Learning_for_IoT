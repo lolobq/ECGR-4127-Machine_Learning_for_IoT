{
  "nbformat": 4,
  "nbformat_minor": 0,
  "metadata": {
    "colab": {
      "provenance": [],
      "gpuType": "T4"
    },
    "kernelspec": {
      "name": "python3",
      "display_name": "Python 3"
    },
    "language_info": {
      "name": "python"
    },
    "accelerator": "GPU"
  },
  "cells": [
    {
      "cell_type": "code",
      "execution_count": 9,
      "metadata": {
        "id": "CvFwAQ2FQu_b"
      },
      "outputs": [],
      "source": [
        "import tensorflow as tf\n",
        "import numpy as np\n",
        "import matplotlib.pyplot as plt\n",
        "from tensorflow.keras.datasets import cifar10\n",
        "from tensorflow.keras import layers, models, regularizers\n",
        "from tensorflow.keras.models import Sequential\n",
        "from tensorflow.keras.layers import Conv2D, MaxPooling2D, Flatten, Dense, Dropout\n",
        "from sklearn.metrics import confusion_matrix\n",
        "import seaborn as sns\n",
        "from sklearn.model_selection import train_test_split\n",
        "from keras.preprocessing.image import ImageDataGenerator\n",
        "from keras.callbacks import EarlyStopping\n",
        "import shutil\n",
        "from google.colab import drive"
      ]
    },
    {
      "cell_type": "markdown",
      "source": [
        "Load CIFAR-10"
      ],
      "metadata": {
        "id": "H9_RMl30YVZR"
      }
    },
    {
      "cell_type": "code",
      "source": [
        "# Load CIFAR-10 dataset\n",
        "(train_images, train_labels), (test_images, test_labels) = cifar10.load_data()\n",
        "\n",
        "# Filter images containing frogs (class 6 in CIFAR-10)\n",
        "frog_indices_train = np.where(train_labels == 6)[0]\n",
        "frog_indices_test = np.where(test_labels == 6)[0]\n",
        "\n",
        "# Create new labels: 1 for frogs, 0 for everything else\n",
        "train_labels_binary = np.zeros((len(train_labels), 1))\n",
        "train_labels_binary[frog_indices_train] = 1\n",
        "test_labels_binary = np.zeros((len(test_labels), 1))\n",
        "test_labels_binary[frog_indices_test] = 1\n",
        "\n",
        "# Filter images containing frogs and non-frog images\n",
        "train_images_frog = train_images[frog_indices_train]\n",
        "train_images_nonfrog = np.delete(train_images, frog_indices_train, axis=0)\n",
        "test_images_frog = test_images[frog_indices_test]\n",
        "test_images_nonfrog = np.delete(test_images, frog_indices_test, axis=0)\n",
        "\n",
        "# Combine frog and non-frog images and labels\n",
        "train_images_final = np.concatenate((train_images_frog, train_images_nonfrog))\n",
        "test_images_final = np.concatenate((test_images_frog, test_images_nonfrog))\n",
        "train_labels_final = np.concatenate((train_labels_binary[frog_indices_train], np.zeros((len(train_images_nonfrog), 1))))\n",
        "test_labels_final = np.concatenate((test_labels_binary[frog_indices_test], np.zeros((len(test_images_nonfrog), 1))))\n",
        "\n",
        "# Determine the number of non-frog images to delete\n",
        "num_images_to_delete = 30000\n",
        "\n",
        "# Delete the specified number of non-frog images\n",
        "train_images_nonfrog_balanced = np.delete(train_images_nonfrog, range(num_images_to_delete), axis=0)\n",
        "\n",
        "# Update the combined train images and labels\n",
        "train_images_final = np.concatenate((train_images_frog, train_images_nonfrog_balanced))\n",
        "train_labels_final = np.concatenate((train_labels_binary[frog_indices_train], np.zeros((len(train_images_nonfrog_balanced), 1))))\n",
        "\n",
        "# Create an ImageDataGenerator instance for data augmentation\n",
        "datagen = ImageDataGenerator(\n",
        "    rotation_range=30,\n",
        "    width_shift_range=0.2,\n",
        "    height_shift_range=0.2,\n",
        "    shear_range=0.2,\n",
        "    zoom_range=0.2,\n",
        "    horizontal_flip=True,\n",
        "    fill_mode='nearest',\n",
        ")\n",
        "\n",
        "# Fit the ImageDataGenerator to your training data\n",
        "datagen.fit(train_images_final)"
      ],
      "metadata": {
        "colab": {
          "base_uri": "https://localhost:8080/"
        },
        "id": "qHFYYZi3Sx7D",
        "outputId": "7cfa6870-e6bb-4f9f-d548-6b1e1a27c472"
      },
      "execution_count": 3,
      "outputs": [
        {
          "output_type": "stream",
          "name": "stdout",
          "text": [
            "Downloading data from https://www.cs.toronto.edu/~kriz/cifar-10-python.tar.gz\n",
            "170498071/170498071 [==============================] - 13s 0us/step\n"
          ]
        }
      ]
    },
    {
      "cell_type": "markdown",
      "source": [
        "Declare Model"
      ],
      "metadata": {
        "id": "B2wXwWPtYZb7"
      }
    },
    {
      "cell_type": "code",
      "source": [
        "model = models.Sequential([\n",
        "    layers.Conv2D(32, (3, 3), activation='relu', input_shape=(32, 32, 3)),\n",
        "    layers.BatchNormalization(),\n",
        "    layers.Conv2D(32, (3, 3), activation='relu', padding='same'),\n",
        "    layers.BatchNormalization(),\n",
        "    layers.MaxPooling2D((2, 2)),\n",
        "    layers.Dropout(0.25),\n",
        "\n",
        "    layers.Conv2D(64, (3, 3), activation='relu', padding='same'),\n",
        "    layers.BatchNormalization(),\n",
        "    layers.Conv2D(64, (3, 3), activation='relu'),\n",
        "    layers.BatchNormalization(),\n",
        "    layers.MaxPooling2D((2, 2)),\n",
        "    layers.Dropout(0.35),\n",
        "\n",
        "    layers.Conv2D(128, (3, 3), activation='relu', padding='same'),\n",
        "    layers.BatchNormalization(),\n",
        "    layers.Conv2D(128, (3, 3), activation='relu'),\n",
        "    layers.BatchNormalization(),\n",
        "    layers.MaxPooling2D((2, 2)),\n",
        "    layers.Dropout(0.45),\n",
        "\n",
        "    layers.Flatten(),\n",
        "    layers.Dense(512, activation='relu', kernel_regularizer=regularizers.l2(0.001)),\n",
        "    layers.Dropout(0.5),\n",
        "\n",
        "    layers.Dense(256, activation='relu'),\n",
        "    layers.Dropout(0.5),\n",
        "\n",
        "    layers.Dense(1, activation='sigmoid')\n",
        "])\n",
        "\n",
        "model.summary()"
      ],
      "metadata": {
        "colab": {
          "base_uri": "https://localhost:8080/"
        },
        "id": "K6E4b5gQYTIA",
        "outputId": "c95b5e86-79c6-4497-ad10-472e2879c717"
      },
      "execution_count": 4,
      "outputs": [
        {
          "output_type": "stream",
          "name": "stdout",
          "text": [
            "Model: \"sequential\"\n",
            "_________________________________________________________________\n",
            " Layer (type)                Output Shape              Param #   \n",
            "=================================================================\n",
            " conv2d (Conv2D)             (None, 30, 30, 32)        896       \n",
            "                                                                 \n",
            " batch_normalization (Batch  (None, 30, 30, 32)        128       \n",
            " Normalization)                                                  \n",
            "                                                                 \n",
            " conv2d_1 (Conv2D)           (None, 30, 30, 32)        9248      \n",
            "                                                                 \n",
            " batch_normalization_1 (Bat  (None, 30, 30, 32)        128       \n",
            " chNormalization)                                                \n",
            "                                                                 \n",
            " max_pooling2d (MaxPooling2  (None, 15, 15, 32)        0         \n",
            " D)                                                              \n",
            "                                                                 \n",
            " dropout (Dropout)           (None, 15, 15, 32)        0         \n",
            "                                                                 \n",
            " conv2d_2 (Conv2D)           (None, 15, 15, 64)        18496     \n",
            "                                                                 \n",
            " batch_normalization_2 (Bat  (None, 15, 15, 64)        256       \n",
            " chNormalization)                                                \n",
            "                                                                 \n",
            " conv2d_3 (Conv2D)           (None, 13, 13, 64)        36928     \n",
            "                                                                 \n",
            " batch_normalization_3 (Bat  (None, 13, 13, 64)        256       \n",
            " chNormalization)                                                \n",
            "                                                                 \n",
            " max_pooling2d_1 (MaxPoolin  (None, 6, 6, 64)          0         \n",
            " g2D)                                                            \n",
            "                                                                 \n",
            " dropout_1 (Dropout)         (None, 6, 6, 64)          0         \n",
            "                                                                 \n",
            " conv2d_4 (Conv2D)           (None, 6, 6, 128)         73856     \n",
            "                                                                 \n",
            " batch_normalization_4 (Bat  (None, 6, 6, 128)         512       \n",
            " chNormalization)                                                \n",
            "                                                                 \n",
            " conv2d_5 (Conv2D)           (None, 4, 4, 128)         147584    \n",
            "                                                                 \n",
            " batch_normalization_5 (Bat  (None, 4, 4, 128)         512       \n",
            " chNormalization)                                                \n",
            "                                                                 \n",
            " max_pooling2d_2 (MaxPoolin  (None, 2, 2, 128)         0         \n",
            " g2D)                                                            \n",
            "                                                                 \n",
            " dropout_2 (Dropout)         (None, 2, 2, 128)         0         \n",
            "                                                                 \n",
            " flatten (Flatten)           (None, 512)               0         \n",
            "                                                                 \n",
            " dense (Dense)               (None, 512)               262656    \n",
            "                                                                 \n",
            " dropout_3 (Dropout)         (None, 512)               0         \n",
            "                                                                 \n",
            " dense_1 (Dense)             (None, 256)               131328    \n",
            "                                                                 \n",
            " dropout_4 (Dropout)         (None, 256)               0         \n",
            "                                                                 \n",
            " dense_2 (Dense)             (None, 1)                 257       \n",
            "                                                                 \n",
            "=================================================================\n",
            "Total params: 683041 (2.61 MB)\n",
            "Trainable params: 682145 (2.60 MB)\n",
            "Non-trainable params: 896 (3.50 KB)\n",
            "_________________________________________________________________\n"
          ]
        }
      ]
    },
    {
      "cell_type": "markdown",
      "source": [
        "Training"
      ],
      "metadata": {
        "id": "yI8S1RkiaGaD"
      }
    },
    {
      "cell_type": "code",
      "source": [
        "# Training\n",
        "\n",
        "# Split dataset into train and validation sets\n",
        "X_train, X_val, y_train, y_val = train_test_split(train_images_final, train_labels_final, test_size=0.2, random_state=42)\n",
        "\n",
        "# Compile model with binary cross-entropy loss and appropriate optimizer\n",
        "model.compile(optimizer='adam', loss='binary_crossentropy', metrics=['accuracy'])\n",
        "\n",
        "# Define Early Stopping callback\n",
        "early_stopping = EarlyStopping(monitor='val_loss', patience=5, restore_best_weights=True)\n",
        "\n",
        "# Train model on training set, validating on validation set\n",
        "# history = model.fit(X_train, y_train, epochs=30, batch_size=32, validation_data=(X_val, y_val), callbacks=[early_stopping])\n",
        "# Train your model with augmented data\n",
        "history = model.fit(datagen.flow(train_images_final, train_labels_final, batch_size=32), epochs=30, validation_data=(test_images_final, test_labels_final),callbacks=[early_stopping])\n",
        "\n",
        "# Plot training history\n",
        "plt.plot(history.history['accuracy'], label='accuracy')\n",
        "plt.plot(history.history['val_accuracy'], label='val_accuracy')\n",
        "plt.xlabel('Epoch')\n",
        "plt.ylabel('Accuracy')\n",
        "plt.legend(loc='lower right')\n",
        "plt.show()\n"
      ],
      "metadata": {
        "colab": {
          "base_uri": "https://localhost:8080/",
          "height": 865
        },
        "id": "uRMumqN7aJn0",
        "outputId": "58fe586c-e9bd-4959-b09d-3a10416897eb"
      },
      "execution_count": 5,
      "outputs": [
        {
          "output_type": "stream",
          "name": "stdout",
          "text": [
            "Epoch 1/30\n",
            "625/625 [==============================] - 30s 30ms/step - loss: 0.9090 - accuracy: 0.7678 - val_loss: 0.6166 - val_accuracy: 0.8320\n",
            "Epoch 2/30\n",
            "625/625 [==============================] - 19s 30ms/step - loss: 0.6089 - accuracy: 0.8275 - val_loss: 0.4510 - val_accuracy: 0.8957\n",
            "Epoch 3/30\n",
            "625/625 [==============================] - 18s 28ms/step - loss: 0.4691 - accuracy: 0.8399 - val_loss: 0.2997 - val_accuracy: 0.9000\n",
            "Epoch 4/30\n",
            "625/625 [==============================] - 18s 29ms/step - loss: 0.4010 - accuracy: 0.8505 - val_loss: 0.5065 - val_accuracy: 0.7951\n",
            "Epoch 5/30\n",
            "625/625 [==============================] - 18s 29ms/step - loss: 0.3714 - accuracy: 0.8594 - val_loss: 0.6570 - val_accuracy: 0.6983\n",
            "Epoch 6/30\n",
            "625/625 [==============================] - 17s 27ms/step - loss: 0.3626 - accuracy: 0.8648 - val_loss: 0.4853 - val_accuracy: 0.8178\n",
            "Epoch 7/30\n",
            "625/625 [==============================] - 23s 37ms/step - loss: 0.3495 - accuracy: 0.8688 - val_loss: 0.2576 - val_accuracy: 0.9108\n",
            "Epoch 8/30\n",
            "625/625 [==============================] - 18s 29ms/step - loss: 0.3424 - accuracy: 0.8683 - val_loss: 0.5982 - val_accuracy: 0.7243\n",
            "Epoch 9/30\n",
            "625/625 [==============================] - 17s 27ms/step - loss: 0.3296 - accuracy: 0.8756 - val_loss: 0.4078 - val_accuracy: 0.7958\n",
            "Epoch 10/30\n",
            "625/625 [==============================] - 18s 29ms/step - loss: 0.3359 - accuracy: 0.8760 - val_loss: 0.4473 - val_accuracy: 0.7951\n",
            "Epoch 11/30\n",
            "625/625 [==============================] - 17s 27ms/step - loss: 0.3293 - accuracy: 0.8777 - val_loss: 0.4245 - val_accuracy: 0.8035\n",
            "Epoch 12/30\n",
            "625/625 [==============================] - 34s 54ms/step - loss: 0.3186 - accuracy: 0.8830 - val_loss: 0.2626 - val_accuracy: 0.8967\n"
          ]
        },
        {
          "output_type": "display_data",
          "data": {
            "text/plain": [
              "<Figure size 640x480 with 1 Axes>"
            ],
            "image/png": "[encoded data removed]"
          },
          "metadata": {}
        }
      ]
    },
    {
      "cell_type": "markdown",
      "source": [
        "Evaluation"
      ],
      "metadata": {
        "id": "GeoZoD638pTb"
      }
    },
    {
      "cell_type": "code",
      "source": [
        "# Evaluate model on test set\n",
        "test_loss, test_accuracy = model.evaluate(test_images_final, test_labels_final)\n",
        "\n",
        "print(\"Test Loss:\", test_loss)\n",
        "print(\"Test Accuracy:\", test_accuracy)\n",
        "\n",
        "# Optionally, you can calculate additional evaluation metrics using scikit-learn\n",
        "from sklearn.metrics import accuracy_score, precision_score, recall_score, f1_score\n",
        "\n",
        "# Predictions on test set\n",
        "y_pred = model.predict(test_images_final)\n",
        "y_pred_binary = (y_pred > 0.5).astype(int)  # Convert probabilities to binary predictions\n",
        "\n",
        "# Calculate evaluation metrics\n",
        "accuracy = accuracy_score(test_labels_final, y_pred_binary)\n",
        "precision = precision_score(test_labels_final, y_pred_binary)\n",
        "recall = recall_score(test_labels_final, y_pred_binary)\n",
        "f1 = f1_score(test_labels_final, y_pred_binary)\n",
        "\n",
        "print(\"Accuracy:\", accuracy)\n",
        "print(\"Precision:\", precision)\n",
        "print(\"Recall:\", recall)\n",
        "print(\"F1-score:\", f1)"
      ],
      "metadata": {
        "colab": {
          "base_uri": "https://localhost:8080/"
        },
        "id": "avBTszIskt-k",
        "outputId": "edc5b5ea-a820-41c4-f7d3-ecd572175fe0"
      },
      "execution_count": 6,
      "outputs": [
        {
          "output_type": "stream",
          "name": "stdout",
          "text": [
            "313/313 [==============================] - 1s 4ms/step - loss: 0.2576 - accuracy: 0.9108\n",
            "Test Loss: 0.25762999057769775\n",
            "Test Accuracy: 0.9107999801635742\n",
            "313/313 [==============================] - 2s 5ms/step\n",
            "Accuracy: 0.9108\n",
            "Precision: 0.5338345864661654\n",
            "Recall: 0.852\n",
            "F1-score: 0.6563944530046225\n"
          ]
        }
      ]
    },
    {
      "cell_type": "markdown",
      "source": [
        "Confusion Matrix"
      ],
      "metadata": {
        "id": "PJGIvzfk8vLD"
      }
    },
    {
      "cell_type": "code",
      "source": [
        "# Calculate the confusion matrix\n",
        "conf_matrix = confusion_matrix(test_labels_final, y_pred_binary)\n",
        "\n",
        "# Plot the confusion matrix\n",
        "plt.figure(figsize=(10, 8))\n",
        "sns.heatmap(conf_matrix, annot=True, fmt='d', cmap='Purples', cbar=False)\n",
        "plt.xlabel('Predicted labels')\n",
        "plt.ylabel('True labels')\n",
        "plt.title('Confusion Matrix')\n",
        "plt.show()"
      ],
      "metadata": {
        "colab": {
          "base_uri": "https://localhost:8080/",
          "height": 718
        },
        "id": "FWDCzRSykx7S",
        "outputId": "e734ec4b-86a6-442c-ab0d-fab0cba00f67"
      },
      "execution_count": 7,
      "outputs": [
        {
          "output_type": "display_data",
          "data": {
            "text/plain": [
              "<Figure size 1000x800 with 1 Axes>"
            ],
            "image/png": "[encoded data removed]"
          },
          "metadata": {}
        }
      ]
    },
    {
      "cell_type": "code",
      "source": [
        "# Mount Google Drive\n",
        "drive.mount('/content/drive')\n",
        "\n",
        "# Save the model to Google Drive\n",
        "model.save('/content/drive/My Drive/ML/frog_detect_model.h5')\n",
        "\n",
        "# Convert the model to TFLite\n",
        "converter = tf.lite.TFLiteConverter.from_keras_model(model)\n",
        "tflite_model = converter.convert()\n",
        "\n",
        "# Save the model.\n",
        "with open('/content/drive/My Drive/ML/frog_detect_model.tflite', 'wb') as f:\n",
        "    f.write(tflite_model)"
      ],
      "metadata": {
        "colab": {
          "base_uri": "https://localhost:8080/"
        },
        "id": "Hl_v4brl-AHF",
        "outputId": "22430505-d4d6-4d6b-e8e7-e47b6734efe3"
      },
      "execution_count": 10,
      "outputs": [
        {
          "output_type": "stream",
          "name": "stdout",
          "text": [
            "Mounted at /content/drive\n"
          ]
        },
        {
          "output_type": "stream",
          "name": "stderr",
          "text": [
            "/usr/local/lib/python3.10/dist-packages/keras/src/engine/training.py:3103: UserWarning: You are saving your model as an HDF5 file via `model.save()`. This file format is considered legacy. We recommend using instead the native Keras format, e.g. `model.save('my_model.keras')`.\n",
            "  saving_api.save_model(\n"
          ]
        }
      ]
    }
  ]
}